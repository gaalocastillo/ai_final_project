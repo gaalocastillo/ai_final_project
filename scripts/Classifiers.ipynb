{
 "cells": [
  {
   "cell_type": "markdown",
   "metadata": {},
   "source": [
    "### Imports  \n",
    "*All the Python imports go here.*"
   ]
  },
  {
   "cell_type": "code",
   "execution_count": 98,
   "metadata": {},
   "outputs": [
    {
     "name": "stderr",
     "output_type": "stream",
     "text": [
      "[nltk_data] Downloading package wordnet to /home/galo/nltk_data...\n",
      "[nltk_data]   Package wordnet is already up-to-date!\n"
     ]
    },
    {
     "data": {
      "text/plain": [
       "True"
      ]
     },
     "execution_count": 98,
     "metadata": {},
     "output_type": "execute_result"
    }
   ],
   "source": [
    "import os, re, math, time, glob\n",
    "import numpy as np\n",
    "import pandas as pd\n",
    "\n",
    "from sklearn.feature_extraction.text import TfidfVectorizer\n",
    "\n",
    "from sklearn.svm import SVC\n",
    "from sklearn.metrics import classification_report, confusion_matrix\n",
    "from sklearn import decomposition\n",
    "from TextProcessor import *\n",
    "import gensim\n",
    "from gensim.utils import simple_preprocess\n",
    "from gensim.parsing.preprocessing import STOPWORDS\n",
    "from nltk.stem import WordNetLemmatizer, SnowballStemmer\n",
    "from nltk.stem.porter import *\n",
    "np.random.seed(2019)\n",
    "import nltk\n",
    "nltk.download('wordnet')"
   ]
  },
  {
   "cell_type": "code",
   "execution_count": 99,
   "metadata": {},
   "outputs": [
    {
     "name": "stdout",
     "output_type": "stream",
     "text": [
      "-------------------------\n"
     ]
    }
   ],
   "source": [
    "# Ignoring warnings\n",
    "import warnings\n",
    "warnings.filterwarnings('ignore')\n",
    "print('-'*25)"
   ]
  },
  {
   "cell_type": "markdown",
   "metadata": {},
   "source": [
    "## Read data"
   ]
  },
  {
   "cell_type": "markdown",
   "metadata": {},
   "source": [
    "## Training and Test "
   ]
  },
  {
   "cell_type": "code",
   "execution_count": 100,
   "metadata": {},
   "outputs": [],
   "source": [
    "# df_model_training = pd.read_csv('../data/training.csv')\n",
    "# df_model_test = pd.read_csv('../data/test.csv')\n",
    "df_model = pd.read_csv('../data/final_ecuador_data/final_data_shuffle.csv', sep='|')\n",
    "categories = ['polit', 'economi', 'educ', 'crime', 'health', 'sport']\n",
    "df_model = df_model[df_model['category'].isin(categories)]"
   ]
  },
  {
   "cell_type": "code",
   "execution_count": 101,
   "metadata": {},
   "outputs": [],
   "source": [
    "percent = 0.75\n",
    "#df_model_training = df_model[:int(len(df_model) * percent)]\n",
    "#df_model_test = df_model[int(len(df_model) * percent) + 1:]\n",
    "\n",
    "df_model_training = df_model.sample(frac=percent, random_state=2)\n",
    "df_model_test = df_model.drop(df_model_training.index, inplace=False)\n",
    "\n",
    "df_model_training.to_csv('../data/final_ecuador_data/final_training.csv', index=False)\n",
    "df_model_test.to_csv('../data/final_ecuador_data/final_test.csv', index=False)"
   ]
  },
  {
   "cell_type": "code",
   "execution_count": 102,
   "metadata": {},
   "outputs": [
    {
     "data": {
      "text/plain": [
       "polit      77\n",
       "economi    77\n",
       "educ       75\n",
       "health     73\n",
       "sport      73\n",
       "crime      69\n",
       "Name: category, dtype: int64"
      ]
     },
     "execution_count": 102,
     "metadata": {},
     "output_type": "execute_result"
    }
   ],
   "source": [
    "df_model_training.category.value_counts(normalize=False)"
   ]
  },
  {
   "cell_type": "code",
   "execution_count": 103,
   "metadata": {},
   "outputs": [
    {
     "data": {
      "text/plain": [
       "educ       29\n",
       "crime      27\n",
       "economi    27\n",
       "polit      25\n",
       "health     24\n",
       "sport      16\n",
       "Name: category, dtype: int64"
      ]
     },
     "execution_count": 103,
     "metadata": {},
     "output_type": "execute_result"
    }
   ],
   "source": [
    "df_model_test.category.value_counts(normalize=False)"
   ]
  },
  {
   "cell_type": "markdown",
   "metadata": {},
   "source": [
    "# Prediction"
   ]
  },
  {
   "cell_type": "markdown",
   "metadata": {},
   "source": [
    "Using the training and test dataset, we will predict the category of news."
   ]
  },
  {
   "cell_type": "markdown",
   "metadata": {},
   "source": [
    "### SVM Classifier"
   ]
  },
  {
   "cell_type": "code",
   "execution_count": 104,
   "metadata": {},
   "outputs": [],
   "source": [
    "frames = [df_model_training, df_model_test]\n",
    "df_model = pd.concat(frames)"
   ]
  },
  {
   "cell_type": "code",
   "execution_count": 105,
   "metadata": {},
   "outputs": [
    {
     "name": "stdout",
     "output_type": "stream",
     "text": [
      "(592, 1430)\n"
     ]
    }
   ],
   "source": [
    "# Create TFIDF matrix.\n",
    "corpus = df_model['tokens-headline-stopwords-stemming']\n",
    "vectorizer = TfidfVectorizer()\n",
    "matrix = vectorizer.fit_transform(corpus)\n",
    "print(matrix.shape)"
   ]
  },
  {
   "cell_type": "code",
   "execution_count": 106,
   "metadata": {},
   "outputs": [],
   "source": [
    "# Split my data on training y test.\n",
    "num_training = len(df_model_training)\n",
    "X_train = matrix[:num_training,:]\n",
    "X_test = matrix[num_training:,:]\n",
    "y_train = df_model[\"category\"].values[:num_training]\n",
    "y_test = df_model['category'].values[num_training:]"
   ]
  },
  {
   "cell_type": "code",
   "execution_count": 107,
   "metadata": {},
   "outputs": [
    {
     "data": {
      "text/plain": [
       "SVC(C=1.0, cache_size=200, class_weight=None, coef0=0.0,\n",
       "  decision_function_shape='ovr', degree=3, gamma='auto_deprecated',\n",
       "  kernel='linear', max_iter=-1, probability=True, random_state=None,\n",
       "  shrinking=True, tol=0.001, verbose=False)"
      ]
     },
     "execution_count": 107,
     "metadata": {},
     "output_type": "execute_result"
    }
   ],
   "source": [
    "# Create the SVM classifier\n",
    "clf = SVC(probability=True, kernel='linear')\n",
    "clf.fit(X_train, y_train)"
   ]
  },
  {
   "cell_type": "code",
   "execution_count": 108,
   "metadata": {},
   "outputs": [
    {
     "name": "stdout",
     "output_type": "stream",
     "text": [
      "              precision    recall  f1-score   support\n",
      "\n",
      "       crime       0.79      0.85      0.82        27\n",
      "     economi       0.78      0.78      0.78        27\n",
      "        educ       0.96      0.76      0.85        29\n",
      "      health       0.94      0.62      0.75        24\n",
      "       polit       0.57      0.84      0.68        25\n",
      "       sport       0.81      0.81      0.81        16\n",
      "\n",
      "   micro avg       0.78      0.78      0.78       148\n",
      "   macro avg       0.81      0.78      0.78       148\n",
      "weighted avg       0.81      0.78      0.78       148\n",
      "\n"
     ]
    }
   ],
   "source": [
    "y_pred = clf.predict(X_test)\n",
    "cm = confusion_matrix(y_test,y_pred)\n",
    "print(classification_report(y_test,y_pred))"
   ]
  },
  {
   "cell_type": "code",
   "execution_count": null,
   "metadata": {},
   "outputs": [],
   "source": []
  },
  {
   "cell_type": "markdown",
   "metadata": {},
   "source": [
    "### Any Neural Network Classifier"
   ]
  },
  {
   "cell_type": "code",
   "execution_count": 274,
   "metadata": {},
   "outputs": [
    {
     "data": {
      "text/html": [
       "        <script type=\"text/javascript\">\n",
       "        window.PlotlyConfig = {MathJaxConfig: 'local'};\n",
       "        if (window.MathJax) {MathJax.Hub.Config({SVG: {font: \"STIX-Web\"}});}\n",
       "        if (typeof require !== 'undefined') {\n",
       "        require.undef(\"plotly\");\n",
       "        requirejs.config({\n",
       "            paths: {\n",
       "                'plotly': ['https://cdn.plot.ly/plotly-latest.min']\n",
       "            }\n",
       "        });\n",
       "        require(['plotly'], function(Plotly) {\n",
       "            window._Plotly = Plotly;\n",
       "        });\n",
       "        }\n",
       "        </script>\n",
       "        "
      ]
     },
     "metadata": {},
     "output_type": "display_data"
    }
   ],
   "source": [
    "from keras.preprocessing.text import Tokenizer\n",
    "from keras.preprocessing.sequence import pad_sequences\n",
    "from keras.models import Sequential\n",
    "from keras.layers import Dense, Embedding, LSTM, SpatialDropout1D\n",
    "from sklearn.model_selection import train_test_split\n",
    "from keras.utils.np_utils import to_categorical\n",
    "from keras.callbacks import EarlyStopping\n",
    "from keras.layers import Dropout\n",
    "from nltk.corpus import stopwords\n",
    "from nltk import word_tokenize\n",
    "STOPWORDS = set(stopwords.words('spanish'))\n",
    "import plotly.graph_objs as go\n",
    "import plotly.plotly as py\n",
    "import cufflinks\n",
    "from IPython.core.interactiveshell import InteractiveShell\n",
    "import plotly.figure_factory as ff\n",
    "InteractiveShell.ast_node_interactivity = 'all'\n",
    "from plotly.offline import iplot\n",
    "cufflinks.go_offline()\n",
    "cufflinks.set_config_file(world_readable=True, theme='pearl')\n",
    "from keras.utils import plot_model"
   ]
  },
  {
   "cell_type": "code",
   "execution_count": 330,
   "metadata": {},
   "outputs": [
    {
     "name": "stdout",
     "output_type": "stream",
     "text": [
      "Found 1430 unique tokens.\n"
     ]
    }
   ],
   "source": [
    "# The maximum number of words to be used. (most frequent)\n",
    "MAX_NB_WORDS = 300\n",
    "# Max number of words in each complaint.\n",
    "MAX_SEQUENCE_LENGTH = 20\n",
    "# This is fixed.\n",
    "EMBEDDING_DIM = 10\n",
    "\n",
    "tokenizer = Tokenizer(num_words=MAX_NB_WORDS, filters='!\"#$%&()*+,-./:;<=>?@[\\]^_`{|}~', lower=True)\n",
    "tokenizer.fit_on_texts(corpus.values)\n",
    "word_index = tokenizer.word_index\n",
    "print('Found %s unique tokens.' % len(word_index))"
   ]
  },
  {
   "cell_type": "code",
   "execution_count": 331,
   "metadata": {},
   "outputs": [
    {
     "name": "stdout",
     "output_type": "stream",
     "text": [
      "('Shape of data tensor:', (592, 20))\n"
     ]
    }
   ],
   "source": [
    "X = tokenizer.texts_to_sequences(corpus.values)\n",
    "X = pad_sequences(X, maxlen=MAX_SEQUENCE_LENGTH)\n",
    "print('Shape of data tensor:', X.shape)"
   ]
  },
  {
   "cell_type": "code",
   "execution_count": 332,
   "metadata": {},
   "outputs": [
    {
     "name": "stdout",
     "output_type": "stream",
     "text": [
      "('Shape of label tensor:', (592, 6))\n"
     ]
    }
   ],
   "source": [
    "Y = pd.get_dummies(df_model['category'])\n",
    "target_labels = Y.columns\n",
    "target = Y.as_matrix()\n",
    "Y = target.copy()\n",
    "print('Shape of label tensor:', target.shape)"
   ]
  },
  {
   "cell_type": "markdown",
   "metadata": {},
   "source": []
  },
  {
   "cell_type": "code",
   "execution_count": 333,
   "metadata": {},
   "outputs": [
    {
     "name": "stdout",
     "output_type": "stream",
     "text": [
      "((444, 20), (444, 6))\n",
      "((148, 20), (148, 6))\n"
     ]
    }
   ],
   "source": [
    "X_train = X[:num_training,:]\n",
    "X_test = X[num_training:,:]\n",
    "y_train = Y[:num_training]\n",
    "y_test = Y[num_training:]\n",
    "\n",
    "print(X_train.shape,y_train.shape)\n",
    "print(X_test.shape,y_test.shape)"
   ]
  },
  {
   "cell_type": "code",
   "execution_count": 334,
   "metadata": {},
   "outputs": [
    {
     "name": "stdout",
     "output_type": "stream",
     "text": [
      "_________________________________________________________________\n",
      "Layer (type)                 Output Shape              Param #   \n",
      "=================================================================\n",
      "Embedding (Embedding)        (None, 20, 10)            3000      \n",
      "_________________________________________________________________\n",
      "SpatialDropout1D (SpatialDro (None, 20, 10)            0         \n",
      "_________________________________________________________________\n",
      "LSTM (LSTM)                  (None, 16)                1728      \n",
      "_________________________________________________________________\n",
      "Dense_softmax (Dense)        (None, 6)                 102       \n",
      "=================================================================\n",
      "Total params: 4,830\n",
      "Trainable params: 4,830\n",
      "Non-trainable params: 0\n",
      "_________________________________________________________________\n",
      "None\n"
     ]
    }
   ],
   "source": [
    "model = Sequential(name='ALG_1')\n",
    "model.add(Embedding(MAX_NB_WORDS, EMBEDDING_DIM, input_length=X.shape[1], name='Embedding'))\n",
    "model.add(SpatialDropout1D(0.2, name='SpatialDropout1D'))\n",
    "model.add(LSTM(16, dropout=0.2, recurrent_dropout=0.2, name='LSTM'))\n",
    "model.add(Dense(6, activation='softmax', name='Dense_softmax'))\n",
    "model.compile(loss='categorical_crossentropy', optimizer='adam', metrics=['accuracy'])\n",
    "#plot_model(model, to_file='LSTM.png',show_shapes=True, show_layer_names=True)\n",
    "print(model.summary())"
   ]
  },
  {
   "cell_type": "code",
   "execution_count": 335,
   "metadata": {},
   "outputs": [
    {
     "name": "stdout",
     "output_type": "stream",
     "text": [
      "Train on 355 samples, validate on 89 samples\n",
      "Epoch 1/50\n",
      "355/355 [==============================] - 5s 14ms/step - loss: 1.7916 - acc: 0.2000 - val_loss: 1.7917 - val_acc: 0.1348\n",
      "Epoch 2/50\n",
      "355/355 [==============================] - 0s 292us/step - loss: 1.7890 - acc: 0.2254 - val_loss: 1.7908 - val_acc: 0.1348\n",
      "Epoch 3/50\n",
      "355/355 [==============================] - 0s 317us/step - loss: 1.7876 - acc: 0.2394 - val_loss: 1.7905 - val_acc: 0.1348\n",
      "Epoch 4/50\n",
      "355/355 [==============================] - 0s 269us/step - loss: 1.7846 - acc: 0.2310 - val_loss: 1.7904 - val_acc: 0.1236\n",
      "Epoch 5/50\n",
      "355/355 [==============================] - 0s 260us/step - loss: 1.7831 - acc: 0.1972 - val_loss: 1.7900 - val_acc: 0.1124\n",
      "Epoch 6/50\n",
      "355/355 [==============================] - 0s 264us/step - loss: 1.7807 - acc: 0.2056 - val_loss: 1.7892 - val_acc: 0.1124\n",
      "Epoch 7/50\n",
      "355/355 [==============================] - 0s 261us/step - loss: 1.7774 - acc: 0.2000 - val_loss: 1.7882 - val_acc: 0.1124\n",
      "Epoch 8/50\n",
      "355/355 [==============================] - 0s 269us/step - loss: 1.7731 - acc: 0.2085 - val_loss: 1.7866 - val_acc: 0.1124\n",
      "Epoch 9/50\n",
      "355/355 [==============================] - 0s 270us/step - loss: 1.7686 - acc: 0.2254 - val_loss: 1.7849 - val_acc: 0.1124\n",
      "Epoch 10/50\n",
      "355/355 [==============================] - 0s 273us/step - loss: 1.7611 - acc: 0.2535 - val_loss: 1.7827 - val_acc: 0.1124\n",
      "Epoch 11/50\n",
      "355/355 [==============================] - 0s 297us/step - loss: 1.7553 - acc: 0.2479 - val_loss: 1.7808 - val_acc: 0.1124\n",
      "Epoch 12/50\n",
      "355/355 [==============================] - 0s 335us/step - loss: 1.7477 - acc: 0.2507 - val_loss: 1.7788 - val_acc: 0.1236\n",
      "Epoch 13/50\n",
      "355/355 [==============================] - 0s 374us/step - loss: 1.7417 - acc: 0.2366 - val_loss: 1.7747 - val_acc: 0.1348\n",
      "Epoch 14/50\n",
      "355/355 [==============================] - 0s 357us/step - loss: 1.7288 - acc: 0.2648 - val_loss: 1.7692 - val_acc: 0.1573\n",
      "Epoch 15/50\n",
      "355/355 [==============================] - 0s 372us/step - loss: 1.7190 - acc: 0.3099 - val_loss: 1.7612 - val_acc: 0.2022\n",
      "Epoch 16/50\n",
      "355/355 [==============================] - 0s 323us/step - loss: 1.7061 - acc: 0.4141 - val_loss: 1.7503 - val_acc: 0.2697\n",
      "Epoch 17/50\n",
      "355/355 [==============================] - 0s 300us/step - loss: 1.6903 - acc: 0.4761 - val_loss: 1.7421 - val_acc: 0.2921\n",
      "Epoch 18/50\n",
      "355/355 [==============================] - 0s 295us/step - loss: 1.6722 - acc: 0.4704 - val_loss: 1.7374 - val_acc: 0.2697\n",
      "Epoch 19/50\n",
      "355/355 [==============================] - 0s 297us/step - loss: 1.6492 - acc: 0.4366 - val_loss: 1.7265 - val_acc: 0.2809\n",
      "Epoch 20/50\n",
      "355/355 [==============================] - 0s 297us/step - loss: 1.6322 - acc: 0.4507 - val_loss: 1.7096 - val_acc: 0.3034\n",
      "Epoch 21/50\n",
      "355/355 [==============================] - 0s 300us/step - loss: 1.5927 - acc: 0.5127 - val_loss: 1.6898 - val_acc: 0.3933\n",
      "Epoch 22/50\n",
      "355/355 [==============================] - 0s 301us/step - loss: 1.5652 - acc: 0.6056 - val_loss: 1.6677 - val_acc: 0.4270\n",
      "Epoch 23/50\n",
      "355/355 [==============================] - 0s 305us/step - loss: 1.5344 - acc: 0.6085 - val_loss: 1.6537 - val_acc: 0.4382\n",
      "Epoch 24/50\n",
      "355/355 [==============================] - 0s 310us/step - loss: 1.5120 - acc: 0.5859 - val_loss: 1.6264 - val_acc: 0.4270\n",
      "Epoch 25/50\n",
      "355/355 [==============================] - 0s 357us/step - loss: 1.4612 - acc: 0.6141 - val_loss: 1.5963 - val_acc: 0.4607\n",
      "Epoch 26/50\n",
      "355/355 [==============================] - 0s 362us/step - loss: 1.4458 - acc: 0.6310 - val_loss: 1.5657 - val_acc: 0.4831\n",
      "Epoch 27/50\n",
      "355/355 [==============================] - 0s 307us/step - loss: 1.3921 - acc: 0.6225 - val_loss: 1.5376 - val_acc: 0.4719\n",
      "Epoch 28/50\n",
      "355/355 [==============================] - 0s 305us/step - loss: 1.3412 - acc: 0.6451 - val_loss: 1.5023 - val_acc: 0.4944\n",
      "Epoch 29/50\n",
      "355/355 [==============================] - 0s 305us/step - loss: 1.3125 - acc: 0.6563 - val_loss: 1.4680 - val_acc: 0.4944\n",
      "Epoch 30/50\n",
      "355/355 [==============================] - 0s 302us/step - loss: 1.2732 - acc: 0.6451 - val_loss: 1.4378 - val_acc: 0.5056\n",
      "Epoch 31/50\n",
      "355/355 [==============================] - 0s 313us/step - loss: 1.2279 - acc: 0.6394 - val_loss: 1.4110 - val_acc: 0.5169\n",
      "Epoch 32/50\n",
      "355/355 [==============================] - 0s 304us/step - loss: 1.1789 - acc: 0.7127 - val_loss: 1.3819 - val_acc: 0.5281\n",
      "Epoch 33/50\n",
      "355/355 [==============================] - 0s 307us/step - loss: 1.1390 - acc: 0.6592 - val_loss: 1.3558 - val_acc: 0.4944\n",
      "Epoch 34/50\n",
      "355/355 [==============================] - 0s 322us/step - loss: 1.0858 - acc: 0.6761 - val_loss: 1.3368 - val_acc: 0.5169\n",
      "Epoch 35/50\n",
      "355/355 [==============================] - 0s 316us/step - loss: 1.0762 - acc: 0.7183 - val_loss: 1.3230 - val_acc: 0.5506\n",
      "Epoch 36/50\n",
      "355/355 [==============================] - 0s 327us/step - loss: 1.0106 - acc: 0.7549 - val_loss: 1.2890 - val_acc: 0.5281\n",
      "Epoch 37/50\n",
      "355/355 [==============================] - 0s 334us/step - loss: 0.9914 - acc: 0.7437 - val_loss: 1.2681 - val_acc: 0.5618\n",
      "Epoch 38/50\n",
      "355/355 [==============================] - 0s 333us/step - loss: 0.9751 - acc: 0.7944 - val_loss: 1.2383 - val_acc: 0.5618\n",
      "Epoch 39/50\n",
      "355/355 [==============================] - 0s 313us/step - loss: 0.9490 - acc: 0.7324 - val_loss: 1.2154 - val_acc: 0.5843\n",
      "Epoch 40/50\n",
      "355/355 [==============================] - 0s 312us/step - loss: 0.9136 - acc: 0.7690 - val_loss: 1.2160 - val_acc: 0.5843\n",
      "Epoch 41/50\n",
      "355/355 [==============================] - 0s 309us/step - loss: 0.8537 - acc: 0.7887 - val_loss: 1.1961 - val_acc: 0.5843\n",
      "Epoch 42/50\n",
      "355/355 [==============================] - 0s 314us/step - loss: 0.8487 - acc: 0.7915 - val_loss: 1.1725 - val_acc: 0.5955\n",
      "Epoch 43/50\n",
      "355/355 [==============================] - 0s 300us/step - loss: 0.8098 - acc: 0.8141 - val_loss: 1.1643 - val_acc: 0.5730\n",
      "Epoch 44/50\n",
      "355/355 [==============================] - 0s 296us/step - loss: 0.7714 - acc: 0.7859 - val_loss: 1.1492 - val_acc: 0.5843\n",
      "Epoch 45/50\n",
      "355/355 [==============================] - 0s 301us/step - loss: 0.7506 - acc: 0.8366 - val_loss: 1.1336 - val_acc: 0.5618\n",
      "Epoch 46/50\n",
      "355/355 [==============================] - 0s 294us/step - loss: 0.7244 - acc: 0.8338 - val_loss: 1.1217 - val_acc: 0.5618\n",
      "Epoch 47/50\n",
      "355/355 [==============================] - 0s 301us/step - loss: 0.7026 - acc: 0.8423 - val_loss: 1.1195 - val_acc: 0.5843\n",
      "Epoch 48/50\n",
      "355/355 [==============================] - 0s 296us/step - loss: 0.7090 - acc: 0.8423 - val_loss: 1.1235 - val_acc: 0.5955\n",
      "Epoch 49/50\n",
      "355/355 [==============================] - 0s 299us/step - loss: 0.6733 - acc: 0.8338 - val_loss: 1.1075 - val_acc: 0.5843\n",
      "Epoch 50/50\n",
      "355/355 [==============================] - 0s 294us/step - loss: 0.6830 - acc: 0.8507 - val_loss: 1.0920 - val_acc: 0.5730\n"
     ]
    }
   ],
   "source": [
    "epochs = 50\n",
    "batch_size = 64\n",
    "\n",
    "history = model.fit(X_train, y_train, epochs=epochs, batch_size=batch_size,validation_split=0.20,callbacks=[EarlyStopping(monitor='val_loss', patience=3, min_delta=0.0001)])"
   ]
  },
  {
   "cell_type": "code",
   "execution_count": 336,
   "metadata": {},
   "outputs": [
    {
     "name": "stdout",
     "output_type": "stream",
     "text": [
      "148/148 [==============================] - 0s 109us/step\n",
      "Test set\n",
      "  Loss: 1.037\n",
      "  Accuracy: 0.655\n"
     ]
    }
   ],
   "source": [
    "accr = model.evaluate(X_test,y_test)\n",
    "print('Test set\\n  Loss: {:0.3f}\\n  Accuracy: {:0.3f}'.format(accr[0],accr[1]))"
   ]
  },
  {
   "cell_type": "code",
   "execution_count": 337,
   "metadata": {},
   "outputs": [],
   "source": [
    "import matplotlib.pyplot as plt"
   ]
  },
  {
   "cell_type": "code",
   "execution_count": 338,
   "metadata": {},
   "outputs": [
    {
     "data": {
      "image/png": "[encoded data removed]",
      "text/plain": [
       "<Figure size 432x288 with 1 Axes>"
      ]
     },
     "metadata": {
      "needs_background": "light"
     },
     "output_type": "display_data"
    }
   ],
   "source": [
    "plt.title('Loss')\n",
    "plt.plot(history.history['loss'], label='train')\n",
    "plt.plot(history.history['val_loss'], label='test')\n",
    "plt.legend()\n",
    "plt.show();"
   ]
  },
  {
   "cell_type": "code",
   "execution_count": 339,
   "metadata": {},
   "outputs": [
    {
     "data": {
      "image/png": "[encoded data removed]",
      "text/plain": [
       "<Figure size 432x288 with 1 Axes>"
      ]
     },
     "metadata": {
      "needs_background": "light"
     },
     "output_type": "display_data"
    }
   ],
   "source": [
    "plt.title('Accuracy')\n",
    "plt.plot(history.history['acc'], label='train')\n",
    "plt.plot(history.history['val_acc'], label='test')\n",
    "plt.legend()\n",
    "plt.show();"
   ]
  },
  {
   "cell_type": "code",
   "execution_count": null,
   "metadata": {},
   "outputs": [],
   "source": []
  },
  {
   "cell_type": "markdown",
   "metadata": {},
   "source": [
    "### Bi-LSTM"
   ]
  },
  {
   "cell_type": "code",
   "execution_count": null,
   "metadata": {},
   "outputs": [],
   "source": [
    "input = Input(shape=(max_len,))\n",
    "model = Embedding(vocab_size, 100, weights=[embedding_matrix], input_length=X.shape[1])(input)\n",
    "model =  Bidirectional (LSTM (100,return_sequences=True,dropout=0.50),merge_mode='concat')(model)\n",
    "model = TimeDistributed(Dense(100,activation='relu'))(model)\n",
    "model = Flatten()(model)\n",
    "model = Dense(100,activation='relu')(model)\n",
    "output = Dense(3,activation='softmax')(model)\n",
    "model = Model(input,output)\n",
    "model.compile(loss='sparse_categorical_crossentropy',optimizer='adam', metrics=['accuracy'])"
   ]
  },
  {
   "cell_type": "code",
   "execution_count": null,
   "metadata": {},
   "outputs": [],
   "source": []
  },
  {
   "cell_type": "code",
   "execution_count": null,
   "metadata": {},
   "outputs": [],
   "source": []
  }
 ],
 "metadata": {
  "kernelspec": {
   "display_name": "Python 2",
   "language": "python",
   "name": "python2"
  },
  "language_info": {
   "codemirror_mode": {
    "name": "ipython",
    "version": 2
   },
   "file_extension": ".py",
   "mimetype": "text/x-python",
   "name": "python",
   "nbconvert_exporter": "python",
   "pygments_lexer": "ipython2",
   "version": "2.7.15+"
  },
  "toc": {
   "base_numbering": 1,
   "nav_menu": {
    "height": "138px",
    "width": "252px"
   },
   "number_sections": false,
   "sideBar": true,
   "skip_h1_title": false,
   "title_cell": "Table of Contents",
   "title_sidebar": "Contents",
   "toc_cell": false,
   "toc_position": {
    "height": "calc(100% - 180px)",
    "left": "10px",
    "top": "150px",
    "width": "199px"
   },
   "toc_section_display": "block",
   "toc_window_display": true
  }
 },
 "nbformat": 4,
 "nbformat_minor": 1
}
