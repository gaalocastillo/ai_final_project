{
 "cells": [
  {
   "cell_type": "markdown",
   "metadata": {},
   "source": [
    "### Imports  \n",
    "*All the Python imports go here.*"
   ]
  },
  {
   "cell_type": "code",
   "execution_count": 1,
   "metadata": {},
   "outputs": [
    {
     "name": "stderr",
     "output_type": "stream",
     "text": [
      "[nltk_data] Downloading package wordnet to /home/galo/nltk_data...\n",
      "[nltk_data]   Package wordnet is already up-to-date!\n"
     ]
    },
    {
     "data": {
      "text/plain": [
       "True"
      ]
     },
     "execution_count": 1,
     "metadata": {},
     "output_type": "execute_result"
    }
   ],
   "source": [
    "import os, re, math, time, glob\n",
    "import numpy as np\n",
    "import pandas as pd\n",
    "\n",
    "from sklearn.feature_extraction.text import TfidfVectorizer\n",
    "\n",
    "from sklearn.svm import SVC\n",
    "from sklearn.metrics import classification_report, confusion_matrix\n",
    "from sklearn import decomposition\n",
    "from TextProcessor import *\n",
    "import gensim\n",
    "from gensim.utils import simple_preprocess\n",
    "from gensim.parsing.preprocessing import STOPWORDS\n",
    "from nltk.stem import WordNetLemmatizer, SnowballStemmer\n",
    "from nltk.stem.porter import *\n",
    "np.random.seed(2019)\n",
    "import nltk\n",
    "nltk.download('wordnet')"
   ]
  },
  {
   "cell_type": "code",
   "execution_count": 2,
   "metadata": {},
   "outputs": [
    {
     "name": "stdout",
     "output_type": "stream",
     "text": [
      "-------------------------\n"
     ]
    }
   ],
   "source": [
    "# Ignoring warnings\n",
    "import warnings\n",
    "warnings.filterwarnings('ignore')\n",
    "print('-'*25)"
   ]
  },
  {
   "cell_type": "markdown",
   "metadata": {},
   "source": [
    "## Read data"
   ]
  },
  {
   "cell_type": "markdown",
   "metadata": {},
   "source": [
    "## Training and Test "
   ]
  },
  {
   "cell_type": "code",
   "execution_count": 3,
   "metadata": {},
   "outputs": [],
   "source": [
    "df_model_training = pd.read_csv('../data/training.csv')\n",
    "df_model_test = pd.read_csv('../data/test.csv')"
   ]
  },
  {
   "cell_type": "code",
   "execution_count": 4,
   "metadata": {},
   "outputs": [
    {
     "data": {
      "text/plain": [
       "polit       0.203806\n",
       "health      0.185390\n",
       "crime       0.170657\n",
       "economi     0.169429\n",
       "educ        0.132597\n",
       "unemploy    0.082873\n",
       "corrupt     0.055249\n",
       "Name: category, dtype: float64"
      ]
     },
     "execution_count": 4,
     "metadata": {},
     "output_type": "execute_result"
    }
   ],
   "source": [
    "df_model_training.category.value_counts(normalize=True)"
   ]
  },
  {
   "cell_type": "code",
   "execution_count": 5,
   "metadata": {},
   "outputs": [
    {
     "data": {
      "text/plain": [
       "polit       0.217454\n",
       "health      0.187411\n",
       "economi     0.161660\n",
       "crime       0.153076\n",
       "educ        0.138770\n",
       "unemploy    0.084406\n",
       "corrupt     0.057225\n",
       "Name: category, dtype: float64"
      ]
     },
     "execution_count": 5,
     "metadata": {},
     "output_type": "execute_result"
    }
   ],
   "source": [
    "df_model_test.category.value_counts(normalize=True)"
   ]
  },
  {
   "cell_type": "markdown",
   "metadata": {},
   "source": [
    "# Prediction"
   ]
  },
  {
   "cell_type": "markdown",
   "metadata": {},
   "source": [
    "Using the training and test dataset, we will predict the category of news."
   ]
  },
  {
   "cell_type": "markdown",
   "metadata": {},
   "source": [
    "### SVM Classifier"
   ]
  },
  {
   "cell_type": "code",
   "execution_count": 6,
   "metadata": {},
   "outputs": [],
   "source": [
    "frames = [df_model_training, df_model_test]\n",
    "df_model = pd.concat(frames)"
   ]
  },
  {
   "cell_type": "code",
   "execution_count": 7,
   "metadata": {},
   "outputs": [
    {
     "name": "stdout",
     "output_type": "stream",
     "text": [
      "(2328, 4166)\n"
     ]
    }
   ],
   "source": [
    "# Create TFIDF matrix.\n",
    "corpus = df_model['tokens-headline-stopwords-stemming']\n",
    "vectorizer = TfidfVectorizer()\n",
    "matrix = vectorizer.fit_transform(corpus)\n",
    "print(matrix.shape)"
   ]
  },
  {
   "cell_type": "code",
   "execution_count": 8,
   "metadata": {},
   "outputs": [],
   "source": [
    "# Split my data on training y test.\n",
    "num_training = len(df_model_training)\n",
    "X_train = matrix[:num_training,:]\n",
    "X_test = matrix[num_training:,:]\n",
    "y_train = df_model[\"category\"].values[:num_training]\n",
    "y_test = df_model['category'].values[num_training:]"
   ]
  },
  {
   "cell_type": "code",
   "execution_count": 9,
   "metadata": {},
   "outputs": [
    {
     "data": {
      "text/plain": [
       "SVC(C=1.0, cache_size=200, class_weight=None, coef0=0.0,\n",
       "  decision_function_shape='ovr', degree=3, gamma='auto_deprecated',\n",
       "  kernel='linear', max_iter=-1, probability=True, random_state=None,\n",
       "  shrinking=True, tol=0.001, verbose=False)"
      ]
     },
     "execution_count": 9,
     "metadata": {},
     "output_type": "execute_result"
    }
   ],
   "source": [
    "# Create the SVM classifier\n",
    "clf = SVC(probability=True, kernel='linear')\n",
    "clf.fit(X_train, y_train)"
   ]
  },
  {
   "cell_type": "code",
   "execution_count": 10,
   "metadata": {},
   "outputs": [
    {
     "name": "stdout",
     "output_type": "stream",
     "text": [
      "              precision    recall  f1-score   support\n",
      "\n",
      "     corrupt       1.00      0.23      0.37        40\n",
      "       crime       0.82      0.84      0.83       107\n",
      "     economi       0.86      0.81      0.84       113\n",
      "        educ       0.98      0.82      0.89        97\n",
      "      health       0.80      0.87      0.83       131\n",
      "       polit       0.62      0.82      0.71       152\n",
      "    unemploy       0.98      0.80      0.88        59\n",
      "\n",
      "   micro avg       0.80      0.80      0.80       699\n",
      "   macro avg       0.86      0.74      0.76       699\n",
      "weighted avg       0.82      0.80      0.79       699\n",
      "\n"
     ]
    }
   ],
   "source": [
    "y_pred = clf.predict(X_test)\n",
    "cm = confusion_matrix(y_test,y_pred)\n",
    "print(classification_report(y_test,y_pred))"
   ]
  },
  {
   "cell_type": "markdown",
   "metadata": {},
   "source": [
    "### Any Traditional ML Classifier"
   ]
  },
  {
   "cell_type": "code",
   "execution_count": null,
   "metadata": {},
   "outputs": [],
   "source": []
  },
  {
   "cell_type": "code",
   "execution_count": null,
   "metadata": {},
   "outputs": [],
   "source": []
  },
  {
   "cell_type": "markdown",
   "metadata": {},
   "source": [
    "### Any Neural Network Classifier"
   ]
  },
  {
   "cell_type": "code",
   "execution_count": 13,
   "metadata": {},
   "outputs": [
    {
     "data": {
      "text/html": [
       "        <script type=\"text/javascript\">\n",
       "        window.PlotlyConfig = {MathJaxConfig: 'local'};\n",
       "        if (window.MathJax) {MathJax.Hub.Config({SVG: {font: \"STIX-Web\"}});}\n",
       "        if (typeof require !== 'undefined') {\n",
       "        require.undef(\"plotly\");\n",
       "        requirejs.config({\n",
       "            paths: {\n",
       "                'plotly': ['https://cdn.plot.ly/plotly-latest.min']\n",
       "            }\n",
       "        });\n",
       "        require(['plotly'], function(Plotly) {\n",
       "            window._Plotly = Plotly;\n",
       "        });\n",
       "        }\n",
       "        </script>\n",
       "        "
      ]
     },
     "metadata": {},
     "output_type": "display_data"
    }
   ],
   "source": [
    "from keras.preprocessing.text import Tokenizer\n",
    "from keras.preprocessing.sequence import pad_sequences\n",
    "from keras.models import Sequential\n",
    "from keras.layers import Dense, Embedding, LSTM, SpatialDropout1D\n",
    "from sklearn.model_selection import train_test_split\n",
    "from keras.utils.np_utils import to_categorical\n",
    "from keras.callbacks import EarlyStopping\n",
    "from keras.layers import Dropout\n",
    "from nltk.corpus import stopwords\n",
    "from nltk import word_tokenize\n",
    "STOPWORDS = set(stopwords.words('english'))\n",
    "import plotly.graph_objs as go\n",
    "import plotly.plotly as py\n",
    "import cufflinks\n",
    "from IPython.core.interactiveshell import InteractiveShell\n",
    "import plotly.figure_factory as ff\n",
    "InteractiveShell.ast_node_interactivity = 'all'\n",
    "from plotly.offline import iplot\n",
    "cufflinks.go_offline()\n",
    "cufflinks.set_config_file(world_readable=True, theme='pearl')\n",
    "from keras.utils import plot_model"
   ]
  },
  {
   "cell_type": "code",
   "execution_count": 234,
   "metadata": {},
   "outputs": [
    {
     "name": "stdout",
     "output_type": "stream",
     "text": [
      "Found 4165 unique tokens.\n"
     ]
    }
   ],
   "source": [
    "# The maximum number of words to be used. (most frequent)\n",
    "MAX_NB_WORDS = 700\n",
    "# Max number of words in each complaint.\n",
    "MAX_SEQUENCE_LENGTH = 15\n",
    "# This is fixed.\n",
    "EMBEDDING_DIM = 20\n",
    "\n",
    "tokenizer = Tokenizer(num_words=MAX_NB_WORDS, filters='!\"#$%&()*+,-./:;<=>?@[\\]^_`{|}~', lower=True)\n",
    "tokenizer.fit_on_texts(corpus.values)\n",
    "word_index = tokenizer.word_index\n",
    "print('Found %s unique tokens.' % len(word_index))"
   ]
  },
  {
   "cell_type": "code",
   "execution_count": 235,
   "metadata": {},
   "outputs": [
    {
     "name": "stdout",
     "output_type": "stream",
     "text": [
      "Shape of data tensor: (2328, 15)\n"
     ]
    }
   ],
   "source": [
    "X = tokenizer.texts_to_sequences(corpus.values)\n",
    "X = pad_sequences(X, maxlen=MAX_SEQUENCE_LENGTH)\n",
    "print('Shape of data tensor:', X.shape)"
   ]
  },
  {
   "cell_type": "code",
   "execution_count": 236,
   "metadata": {},
   "outputs": [
    {
     "name": "stdout",
     "output_type": "stream",
     "text": [
      "Shape of label tensor: (2328, 7)\n"
     ]
    }
   ],
   "source": [
    "Y = pd.get_dummies(df_model['category'])\n",
    "target_labels = Y.columns\n",
    "target = Y.as_matrix()\n",
    "Y = target.copy()\n",
    "print('Shape of label tensor:', target.shape)"
   ]
  },
  {
   "cell_type": "markdown",
   "metadata": {},
   "source": []
  },
  {
   "cell_type": "code",
   "execution_count": 237,
   "metadata": {},
   "outputs": [
    {
     "name": "stdout",
     "output_type": "stream",
     "text": [
      "(1629, 15) (1629, 7)\n",
      "(699, 15) (699, 7)\n"
     ]
    }
   ],
   "source": [
    "X_train = X[:num_training,:]\n",
    "X_test = X[num_training:,:]\n",
    "y_train = Y[:num_training]\n",
    "y_test = Y[num_training:]\n",
    "\n",
    "print(X_train.shape,y_train.shape)\n",
    "print(X_test.shape,y_test.shape)"
   ]
  },
  {
   "cell_type": "code",
   "execution_count": 244,
   "metadata": {},
   "outputs": [
    {
     "name": "stdout",
     "output_type": "stream",
     "text": [
      "_________________________________________________________________\n",
      "Layer (type)                 Output Shape              Param #   \n",
      "=================================================================\n",
      "Embedding (Embedding)        (None, 15, 20)            14000     \n",
      "_________________________________________________________________\n",
      "SpatialDropout1D (SpatialDro (None, 15, 20)            0         \n",
      "_________________________________________________________________\n",
      "LSTM (LSTM)                  (None, 16)                2368      \n",
      "_________________________________________________________________\n",
      "Dense_softmax (Dense)        (None, 7)                 119       \n",
      "=================================================================\n",
      "Total params: 16,487\n",
      "Trainable params: 16,487\n",
      "Non-trainable params: 0\n",
      "_________________________________________________________________\n",
      "None\n"
     ]
    }
   ],
   "source": [
    "model = Sequential(name='ALG_1')\n",
    "model.add(Embedding(MAX_NB_WORDS, EMBEDDING_DIM, input_length=X.shape[1], name='Embedding'))\n",
    "model.add(SpatialDropout1D(0.2, name='SpatialDropout1D'))\n",
    "model.add(LSTM(16, dropout=0.2, recurrent_dropout=0.2, name='LSTM'))\n",
    "model.add(Dense(7, activation='softmax', name='Dense_softmax'))\n",
    "model.compile(loss='categorical_crossentropy', optimizer='adam', metrics=['accuracy'])\n",
    "plot_model(model, to_file='LSTM.png',show_shapes=True, show_layer_names=True)\n",
    "print(model.summary())"
   ]
  },
  {
   "cell_type": "code",
   "execution_count": 245,
   "metadata": {},
   "outputs": [
    {
     "name": "stdout",
     "output_type": "stream",
     "text": [
      "Train on 1303 samples, validate on 326 samples\n",
      "Epoch 1/11\n",
      "1303/1303 [==============================] - 9s 7ms/step - loss: 1.9370 - acc: 0.2249 - val_loss: 1.9282 - val_acc: 0.2485\n",
      "Epoch 2/11\n",
      "1303/1303 [==============================] - 0s 223us/step - loss: 1.9121 - acc: 0.2502 - val_loss: 1.9043 - val_acc: 0.1902\n",
      "Epoch 3/11\n",
      "1303/1303 [==============================] - 0s 166us/step - loss: 1.8761 - acc: 0.2640 - val_loss: 1.8718 - val_acc: 0.3834\n",
      "Epoch 4/11\n",
      "1303/1303 [==============================] - 0s 170us/step - loss: 1.8364 - acc: 0.3469 - val_loss: 1.8408 - val_acc: 0.3282\n",
      "Epoch 5/11\n",
      "1303/1303 [==============================] - 0s 176us/step - loss: 1.7934 - acc: 0.3630 - val_loss: 1.7999 - val_acc: 0.4110\n",
      "Epoch 6/11\n",
      "1303/1303 [==============================] - 0s 151us/step - loss: 1.7374 - acc: 0.4175 - val_loss: 1.7331 - val_acc: 0.4785\n",
      "Epoch 7/11\n",
      "1303/1303 [==============================] - 0s 142us/step - loss: 1.6542 - acc: 0.4774 - val_loss: 1.6399 - val_acc: 0.5123\n",
      "Epoch 8/11\n",
      "1303/1303 [==============================] - 0s 172us/step - loss: 1.5448 - acc: 0.5464 - val_loss: 1.5131 - val_acc: 0.5736\n",
      "Epoch 9/11\n",
      "1303/1303 [==============================] - 0s 157us/step - loss: 1.3956 - acc: 0.5909 - val_loss: 1.3793 - val_acc: 0.6104\n",
      "Epoch 10/11\n",
      "1303/1303 [==============================] - 0s 142us/step - loss: 1.2523 - acc: 0.6424 - val_loss: 1.2454 - val_acc: 0.6043\n",
      "Epoch 11/11\n",
      "1303/1303 [==============================] - 0s 146us/step - loss: 1.1235 - acc: 0.6631 - val_loss: 1.1529 - val_acc: 0.6503\n"
     ]
    }
   ],
   "source": [
    "epochs = 11\n",
    "batch_size = 64\n",
    "\n",
    "history = model.fit(X_train, y_train, epochs=epochs, batch_size=batch_size,validation_split=0.2,callbacks=[EarlyStopping(monitor='val_loss', patience=3, min_delta=0.0001)])"
   ]
  },
  {
   "cell_type": "code",
   "execution_count": 240,
   "metadata": {},
   "outputs": [
    {
     "name": "stdout",
     "output_type": "stream",
     "text": [
      "699/699 [==============================] - 0s 109us/step\n",
      "Test set\n",
      "  Loss: 1.298\n",
      "  Accuracy: 0.660\n"
     ]
    }
   ],
   "source": [
    "accr = model.evaluate(X_test,y_test)\n",
    "print('Test set\\n  Loss: {:0.3f}\\n  Accuracy: {:0.3f}'.format(accr[0],accr[1]))"
   ]
  },
  {
   "cell_type": "code",
   "execution_count": 241,
   "metadata": {},
   "outputs": [],
   "source": [
    "import matplotlib.pyplot as plt"
   ]
  },
  {
   "cell_type": "code",
   "execution_count": 242,
   "metadata": {},
   "outputs": [
    {
     "data": {
      "image/png": "[encoded data removed]",
      "text/plain": [
       "<Figure size 432x288 with 1 Axes>"
      ]
     },
     "metadata": {
      "needs_background": "light"
     },
     "output_type": "display_data"
    }
   ],
   "source": [
    "plt.title('Loss')\n",
    "plt.plot(history.history['loss'], label='train')\n",
    "plt.plot(history.history['val_loss'], label='test')\n",
    "plt.legend()\n",
    "plt.show();"
   ]
  },
  {
   "cell_type": "code",
   "execution_count": 243,
   "metadata": {},
   "outputs": [
    {
     "data": {
      "image/png": "[encoded data removed]",
      "text/plain": [
       "<Figure size 432x288 with 1 Axes>"
      ]
     },
     "metadata": {
      "needs_background": "light"
     },
     "output_type": "display_data"
    }
   ],
   "source": [
    "plt.title('Accuracy')\n",
    "plt.plot(history.history['acc'], label='train')\n",
    "plt.plot(history.history['val_acc'], label='test')\n",
    "plt.legend()\n",
    "plt.show();"
   ]
  },
  {
   "cell_type": "code",
   "execution_count": null,
   "metadata": {},
   "outputs": [],
   "source": []
  }
 ],
 "metadata": {
  "kernelspec": {
   "display_name": "Python 2",
   "language": "python",
   "name": "python2"
  },
  "language_info": {
   "codemirror_mode": {
    "name": "ipython",
    "version": 2
   },
   "file_extension": ".py",
   "mimetype": "text/x-python",
   "name": "python",
   "nbconvert_exporter": "python",
   "pygments_lexer": "ipython2",
   "version": "2.7.15+"
  },
  "toc": {
   "base_numbering": 1,
   "nav_menu": {
    "height": "138px",
    "width": "252px"
   },
   "number_sections": false,
   "sideBar": true,
   "skip_h1_title": false,
   "title_cell": "Table of Contents",
   "title_sidebar": "Contents",
   "toc_cell": false,
   "toc_position": {
    "height": "calc(100% - 180px)",
    "left": "10px",
    "top": "150px",
    "width": "199px"
   },
   "toc_section_display": "block",
   "toc_window_display": true
  }
 },
 "nbformat": 4,
 "nbformat_minor": 1
}
