{
 "cells": [
  {
   "cell_type": "markdown",
   "metadata": {},
   "source": [
    "### Imports  \n",
    "*All the Python imports go here.*"
   ]
  },
  {
   "cell_type": "code",
   "execution_count": 1,
   "metadata": {},
   "outputs": [
    {
     "name": "stderr",
     "output_type": "stream",
     "text": [
      "[nltk_data] Downloading package wordnet to /home/galo/nltk_data...\n",
      "[nltk_data]   Package wordnet is already up-to-date!\n"
     ]
    },
    {
     "data": {
      "text/plain": [
       "True"
      ]
     },
     "execution_count": 1,
     "metadata": {},
     "output_type": "execute_result"
    }
   ],
   "source": [
    "import os, re, math, time, glob\n",
    "import numpy as np\n",
    "import pandas as pd\n",
    "\n",
    "from sklearn.feature_extraction.text import TfidfVectorizer\n",
    "\n",
    "from sklearn.svm import SVC\n",
    "from sklearn.metrics import classification_report, confusion_matrix\n",
    "from sklearn import decomposition\n",
    "from TextProcessor import *\n",
    "import gensim\n",
    "from gensim.utils import simple_preprocess\n",
    "from gensim.parsing.preprocessing import STOPWORDS\n",
    "from nltk.stem import WordNetLemmatizer, SnowballStemmer\n",
    "from nltk.stem.porter import *\n",
    "np.random.seed(2019)\n",
    "import nltk\n",
    "nltk.download('wordnet')"
   ]
  },
  {
   "cell_type": "code",
   "execution_count": 2,
   "metadata": {},
   "outputs": [
    {
     "name": "stdout",
     "output_type": "stream",
     "text": [
      "-------------------------\n"
     ]
    }
   ],
   "source": [
    "# Ignoring warnings\n",
    "import warnings\n",
    "warnings.filterwarnings('ignore')\n",
    "print('-'*25)"
   ]
  },
  {
   "cell_type": "markdown",
   "metadata": {},
   "source": [
    "## Read data"
   ]
  },
  {
   "cell_type": "markdown",
   "metadata": {},
   "source": [
    "## Training and Test "
   ]
  },
  {
   "cell_type": "code",
   "execution_count": 74,
   "metadata": {},
   "outputs": [],
   "source": [
    "# df_model_training = pd.read_csv('../data/training.csv')\n",
    "# df_model_test = pd.read_csv('../data/test.csv')\n",
    "df_model = pd.read_csv('../data/final_ecuador_data/final_data_shuffle.csv', sep='|')\n",
    "categories = ['polit', 'economi', 'educ', 'crime', 'health', 'sport']\n",
    "df_model = df_model[df_model['category'].isin(categories)]"
   ]
  },
  {
   "cell_type": "code",
   "execution_count": 78,
   "metadata": {},
   "outputs": [],
   "source": [
    "percent = 0.75\n",
    "#df_model_training = df_model[:int(len(df_model) * percent)]\n",
    "#df_model_test = df_model[int(len(df_model) * percent) + 1:]\n",
    "\n",
    "df_model_training = df_model.sample(frac=percent, random_state=2)\n",
    "df_model_test = df_model.drop(df_model_training.index, inplace=False)\n",
    "\n",
    "df_model_training.to_csv('../data/final_ecuador_data/final_training.csv', index=False)\n",
    "df_model_test.to_csv('../data/final_ecuador_data/final_test.csv', index=False)"
   ]
  },
  {
   "cell_type": "code",
   "execution_count": 76,
   "metadata": {},
   "outputs": [
    {
     "data": {
      "text/plain": [
       "polit      77\n",
       "economi    77\n",
       "educ       75\n",
       "health     73\n",
       "sport      73\n",
       "crime      69\n",
       "Name: category, dtype: int64"
      ]
     },
     "execution_count": 76,
     "metadata": {},
     "output_type": "execute_result"
    }
   ],
   "source": [
    "df_model_training.category.value_counts(normalize=False)"
   ]
  },
  {
   "cell_type": "code",
   "execution_count": 77,
   "metadata": {},
   "outputs": [
    {
     "data": {
      "text/plain": [
       "educ       29\n",
       "crime      27\n",
       "economi    27\n",
       "polit      25\n",
       "health     24\n",
       "sport      16\n",
       "Name: category, dtype: int64"
      ]
     },
     "execution_count": 77,
     "metadata": {},
     "output_type": "execute_result"
    }
   ],
   "source": [
    "df_model_test.category.value_counts(normalize=False)"
   ]
  },
  {
   "cell_type": "markdown",
   "metadata": {},
   "source": [
    "# Prediction"
   ]
  },
  {
   "cell_type": "markdown",
   "metadata": {},
   "source": [
    "Using the training and test dataset, we will predict the category of news."
   ]
  },
  {
   "cell_type": "markdown",
   "metadata": {},
   "source": [
    "### SVM Classifier"
   ]
  },
  {
   "cell_type": "code",
   "execution_count": 7,
   "metadata": {},
   "outputs": [],
   "source": [
    "frames = [df_model_training, df_model_test]\n",
    "df_model = pd.concat(frames)"
   ]
  },
  {
   "cell_type": "code",
   "execution_count": 48,
   "metadata": {},
   "outputs": [
    {
     "name": "stdout",
     "output_type": "stream",
     "text": [
      "(592, 1430)\n"
     ]
    }
   ],
   "source": [
    "# Create TFIDF matrix.\n",
    "corpus = df_model['tokens-headline-stopwords-stemming']\n",
    "vectorizer = TfidfVectorizer()\n",
    "matrix = vectorizer.fit_transform(corpus)\n",
    "print(matrix.shape)"
   ]
  },
  {
   "cell_type": "code",
   "execution_count": 49,
   "metadata": {},
   "outputs": [],
   "source": [
    "# Split my data on training y test.\n",
    "num_training = len(df_model_training)\n",
    "X_train = matrix[:num_training,:]\n",
    "X_test = matrix[num_training:,:]\n",
    "y_train = df_model[\"category\"].values[:num_training]\n",
    "y_test = df_model['category'].values[num_training:]"
   ]
  },
  {
   "cell_type": "code",
   "execution_count": 50,
   "metadata": {},
   "outputs": [
    {
     "data": {
      "text/plain": [
       "SVC(C=1.0, cache_size=200, class_weight=None, coef0=0.0,\n",
       "  decision_function_shape='ovr', degree=3, gamma='auto_deprecated',\n",
       "  kernel='linear', max_iter=-1, probability=True, random_state=None,\n",
       "  shrinking=True, tol=0.001, verbose=False)"
      ]
     },
     "execution_count": 50,
     "metadata": {},
     "output_type": "execute_result"
    }
   ],
   "source": [
    "# Create the SVM classifier\n",
    "clf = SVC(probability=True, kernel='linear')\n",
    "clf.fit(X_train, y_train)"
   ]
  },
  {
   "cell_type": "code",
   "execution_count": 51,
   "metadata": {},
   "outputs": [
    {
     "name": "stdout",
     "output_type": "stream",
     "text": [
      "              precision    recall  f1-score   support\n",
      "\n",
      "       crime       0.79      0.85      0.82        27\n",
      "     economi       0.78      0.78      0.78        27\n",
      "        educ       0.96      0.76      0.85        29\n",
      "      health       0.94      0.62      0.75        24\n",
      "       polit       0.57      0.84      0.68        25\n",
      "       sport       0.81      0.81      0.81        16\n",
      "\n",
      "   micro avg       0.78      0.78      0.78       148\n",
      "   macro avg       0.81      0.78      0.78       148\n",
      "weighted avg       0.81      0.78      0.78       148\n",
      "\n"
     ]
    }
   ],
   "source": [
    "y_pred = clf.predict(X_test)\n",
    "cm = confusion_matrix(y_test,y_pred)\n",
    "print(classification_report(y_test,y_pred))"
   ]
  },
  {
   "cell_type": "markdown",
   "metadata": {},
   "source": [
    "### Any Traditional ML Classifier"
   ]
  },
  {
   "cell_type": "code",
   "execution_count": null,
   "metadata": {},
   "outputs": [],
   "source": []
  },
  {
   "cell_type": "code",
   "execution_count": null,
   "metadata": {},
   "outputs": [],
   "source": []
  },
  {
   "cell_type": "markdown",
   "metadata": {},
   "source": [
    "### Any Neural Network Classifier"
   ]
  },
  {
   "cell_type": "code",
   "execution_count": 52,
   "metadata": {},
   "outputs": [
    {
     "data": {
      "text/html": [
       "        <script type=\"text/javascript\">\n",
       "        window.PlotlyConfig = {MathJaxConfig: 'local'};\n",
       "        if (window.MathJax) {MathJax.Hub.Config({SVG: {font: \"STIX-Web\"}});}\n",
       "        if (typeof require !== 'undefined') {\n",
       "        require.undef(\"plotly\");\n",
       "        requirejs.config({\n",
       "            paths: {\n",
       "                'plotly': ['https://cdn.plot.ly/plotly-latest.min']\n",
       "            }\n",
       "        });\n",
       "        require(['plotly'], function(Plotly) {\n",
       "            window._Plotly = Plotly;\n",
       "        });\n",
       "        }\n",
       "        </script>\n",
       "        "
      ]
     },
     "metadata": {},
     "output_type": "display_data"
    }
   ],
   "source": [
    "from keras.preprocessing.text import Tokenizer\n",
    "from keras.preprocessing.sequence import pad_sequences\n",
    "from keras.models import Sequential\n",
    "from keras.layers import Dense, Embedding, LSTM, SpatialDropout1D\n",
    "from sklearn.model_selection import train_test_split\n",
    "from keras.utils.np_utils import to_categorical\n",
    "from keras.callbacks import EarlyStopping\n",
    "from keras.layers import Dropout\n",
    "from nltk.corpus import stopwords\n",
    "from nltk import word_tokenize\n",
    "STOPWORDS = set(stopwords.words('english'))\n",
    "import plotly.graph_objs as go\n",
    "import plotly.plotly as py\n",
    "import cufflinks\n",
    "from IPython.core.interactiveshell import InteractiveShell\n",
    "import plotly.figure_factory as ff\n",
    "InteractiveShell.ast_node_interactivity = 'all'\n",
    "from plotly.offline import iplot\n",
    "cufflinks.go_offline()\n",
    "cufflinks.set_config_file(world_readable=True, theme='pearl')\n",
    "from keras.utils import plot_model"
   ]
  },
  {
   "cell_type": "code",
   "execution_count": 64,
   "metadata": {},
   "outputs": [
    {
     "name": "stdout",
     "output_type": "stream",
     "text": [
      "Found 1430 unique tokens.\n"
     ]
    }
   ],
   "source": [
    "# The maximum number of words to be used. (most frequent)\n",
    "MAX_NB_WORDS = 300\n",
    "# Max number of words in each complaint.\n",
    "MAX_SEQUENCE_LENGTH = 15\n",
    "# This is fixed.\n",
    "EMBEDDING_DIM = 10\n",
    "\n",
    "tokenizer = Tokenizer(num_words=MAX_NB_WORDS, filters='!\"#$%&()*+,-./:;<=>?@[\\]^_`{|}~', lower=True)\n",
    "tokenizer.fit_on_texts(corpus.values)\n",
    "word_index = tokenizer.word_index\n",
    "print('Found %s unique tokens.' % len(word_index))"
   ]
  },
  {
   "cell_type": "code",
   "execution_count": 65,
   "metadata": {},
   "outputs": [
    {
     "name": "stdout",
     "output_type": "stream",
     "text": [
      "('Shape of data tensor:', (592, 15))\n"
     ]
    }
   ],
   "source": [
    "X = tokenizer.texts_to_sequences(corpus.values)\n",
    "X = pad_sequences(X, maxlen=MAX_SEQUENCE_LENGTH)\n",
    "print('Shape of data tensor:', X.shape)"
   ]
  },
  {
   "cell_type": "code",
   "execution_count": 66,
   "metadata": {},
   "outputs": [
    {
     "name": "stdout",
     "output_type": "stream",
     "text": [
      "('Shape of label tensor:', (592, 6))\n"
     ]
    }
   ],
   "source": [
    "Y = pd.get_dummies(df_model['category'])\n",
    "target_labels = Y.columns\n",
    "target = Y.as_matrix()\n",
    "Y = target.copy()\n",
    "print('Shape of label tensor:', target.shape)"
   ]
  },
  {
   "cell_type": "markdown",
   "metadata": {},
   "source": []
  },
  {
   "cell_type": "code",
   "execution_count": 67,
   "metadata": {},
   "outputs": [
    {
     "name": "stdout",
     "output_type": "stream",
     "text": [
      "((444, 15), (444, 6))\n",
      "((148, 15), (148, 6))\n"
     ]
    }
   ],
   "source": [
    "X_train = X[:num_training,:]\n",
    "X_test = X[num_training:,:]\n",
    "y_train = Y[:num_training]\n",
    "y_test = Y[num_training:]\n",
    "\n",
    "print(X_train.shape,y_train.shape)\n",
    "print(X_test.shape,y_test.shape)"
   ]
  },
  {
   "cell_type": "code",
   "execution_count": 68,
   "metadata": {},
   "outputs": [
    {
     "name": "stdout",
     "output_type": "stream",
     "text": [
      "_________________________________________________________________\n",
      "Layer (type)                 Output Shape              Param #   \n",
      "=================================================================\n",
      "Embedding (Embedding)        (None, 15, 10)            3000      \n",
      "_________________________________________________________________\n",
      "SpatialDropout1D (SpatialDro (None, 15, 10)            0         \n",
      "_________________________________________________________________\n",
      "LSTM (LSTM)                  (None, 16)                1728      \n",
      "_________________________________________________________________\n",
      "Dense_softmax (Dense)        (None, 6)                 102       \n",
      "=================================================================\n",
      "Total params: 4,830\n",
      "Trainable params: 4,830\n",
      "Non-trainable params: 0\n",
      "_________________________________________________________________\n",
      "None\n"
     ]
    }
   ],
   "source": [
    "model = Sequential(name='ALG_1')\n",
    "model.add(Embedding(MAX_NB_WORDS, EMBEDDING_DIM, input_length=X.shape[1], name='Embedding'))\n",
    "model.add(SpatialDropout1D(0.2, name='SpatialDropout1D'))\n",
    "model.add(LSTM(16, dropout=0.2, recurrent_dropout=0.2, name='LSTM'))\n",
    "model.add(Dense(6, activation='softmax', name='Dense_softmax'))\n",
    "model.compile(loss='categorical_crossentropy', optimizer='adam', metrics=['accuracy'])\n",
    "#plot_model(model, to_file='LSTM.png',show_shapes=True, show_layer_names=True)\n",
    "print(model.summary())"
   ]
  },
  {
   "cell_type": "code",
   "execution_count": 69,
   "metadata": {},
   "outputs": [
    {
     "name": "stdout",
     "output_type": "stream",
     "text": [
      "Train on 355 samples, validate on 89 samples\n",
      "Epoch 1/50\n",
      "355/355 [==============================] - 1s 4ms/step - loss: 1.7920 - acc: 0.1690 - val_loss: 1.7919 - val_acc: 0.1348\n",
      "Epoch 2/50\n",
      "355/355 [==============================] - 0s 190us/step - loss: 1.7896 - acc: 0.2028 - val_loss: 1.7908 - val_acc: 0.1573\n",
      "Epoch 3/50\n",
      "355/355 [==============================] - 0s 181us/step - loss: 1.7865 - acc: 0.2620 - val_loss: 1.7901 - val_acc: 0.1685\n",
      "Epoch 4/50\n",
      "355/355 [==============================] - 0s 178us/step - loss: 1.7849 - acc: 0.2732 - val_loss: 1.7893 - val_acc: 0.1573\n",
      "Epoch 5/50\n",
      "355/355 [==============================] - 0s 179us/step - loss: 1.7817 - acc: 0.3070 - val_loss: 1.7881 - val_acc: 0.1685\n",
      "Epoch 6/50\n",
      "355/355 [==============================] - 0s 189us/step - loss: 1.7787 - acc: 0.2901 - val_loss: 1.7867 - val_acc: 0.1685\n",
      "Epoch 7/50\n",
      "355/355 [==============================] - 0s 177us/step - loss: 1.7743 - acc: 0.2930 - val_loss: 1.7849 - val_acc: 0.1798\n",
      "Epoch 8/50\n",
      "355/355 [==============================] - 0s 182us/step - loss: 1.7696 - acc: 0.3606 - val_loss: 1.7827 - val_acc: 0.1798\n",
      "Epoch 9/50\n",
      "355/355 [==============================] - 0s 180us/step - loss: 1.7656 - acc: 0.3380 - val_loss: 1.7804 - val_acc: 0.1798\n",
      "Epoch 10/50\n",
      "355/355 [==============================] - 0s 174us/step - loss: 1.7585 - acc: 0.3718 - val_loss: 1.7774 - val_acc: 0.1910\n",
      "Epoch 11/50\n",
      "355/355 [==============================] - 0s 178us/step - loss: 1.7519 - acc: 0.4000 - val_loss: 1.7736 - val_acc: 0.2247\n",
      "Epoch 12/50\n",
      "355/355 [==============================] - 0s 185us/step - loss: 1.7450 - acc: 0.4338 - val_loss: 1.7693 - val_acc: 0.2247\n",
      "Epoch 13/50\n",
      "355/355 [==============================] - 0s 183us/step - loss: 1.7326 - acc: 0.4169 - val_loss: 1.7639 - val_acc: 0.2697\n",
      "Epoch 14/50\n",
      "355/355 [==============================] - 0s 181us/step - loss: 1.7224 - acc: 0.4310 - val_loss: 1.7573 - val_acc: 0.2921\n",
      "Epoch 15/50\n",
      "355/355 [==============================] - 0s 201us/step - loss: 1.7055 - acc: 0.4563 - val_loss: 1.7488 - val_acc: 0.2921\n",
      "Epoch 16/50\n",
      "355/355 [==============================] - 0s 232us/step - loss: 1.6933 - acc: 0.4310 - val_loss: 1.7397 - val_acc: 0.2472\n",
      "Epoch 17/50\n",
      "355/355 [==============================] - 0s 283us/step - loss: 1.6742 - acc: 0.4056 - val_loss: 1.7294 - val_acc: 0.2809\n",
      "Epoch 18/50\n",
      "355/355 [==============================] - 0s 341us/step - loss: 1.6485 - acc: 0.4535 - val_loss: 1.7172 - val_acc: 0.2921\n",
      "Epoch 19/50\n",
      "355/355 [==============================] - 0s 316us/step - loss: 1.6292 - acc: 0.4197 - val_loss: 1.7035 - val_acc: 0.2697\n",
      "Epoch 20/50\n",
      "355/355 [==============================] - 0s 381us/step - loss: 1.5974 - acc: 0.4366 - val_loss: 1.6860 - val_acc: 0.2921\n",
      "Epoch 21/50\n",
      "355/355 [==============================] - 0s 387us/step - loss: 1.5733 - acc: 0.4254 - val_loss: 1.6686 - val_acc: 0.3146\n",
      "Epoch 22/50\n",
      "355/355 [==============================] - 0s 271us/step - loss: 1.5432 - acc: 0.4394 - val_loss: 1.6541 - val_acc: 0.2921\n",
      "Epoch 23/50\n",
      "355/355 [==============================] - 0s 180us/step - loss: 1.5121 - acc: 0.4225 - val_loss: 1.6366 - val_acc: 0.3034\n",
      "Epoch 24/50\n",
      "355/355 [==============================] - 0s 231us/step - loss: 1.4731 - acc: 0.4451 - val_loss: 1.6127 - val_acc: 0.3034\n",
      "Epoch 25/50\n",
      "355/355 [==============================] - 0s 224us/step - loss: 1.4350 - acc: 0.4817 - val_loss: 1.5896 - val_acc: 0.3146\n",
      "Epoch 26/50\n",
      "355/355 [==============================] - 0s 276us/step - loss: 1.3947 - acc: 0.4592 - val_loss: 1.5767 - val_acc: 0.3034\n",
      "Epoch 27/50\n",
      "355/355 [==============================] - 0s 286us/step - loss: 1.3495 - acc: 0.4789 - val_loss: 1.5447 - val_acc: 0.3258\n",
      "Epoch 28/50\n",
      "355/355 [==============================] - 0s 308us/step - loss: 1.3241 - acc: 0.5070 - val_loss: 1.5185 - val_acc: 0.3371\n",
      "Epoch 29/50\n",
      "355/355 [==============================] - 0s 347us/step - loss: 1.2743 - acc: 0.5324 - val_loss: 1.4945 - val_acc: 0.3258\n",
      "Epoch 30/50\n",
      "355/355 [==============================] - 0s 232us/step - loss: 1.2219 - acc: 0.5324 - val_loss: 1.4606 - val_acc: 0.3820\n",
      "Epoch 31/50\n",
      "355/355 [==============================] - 0s 213us/step - loss: 1.1926 - acc: 0.5803 - val_loss: 1.4451 - val_acc: 0.3708\n",
      "Epoch 32/50\n",
      "355/355 [==============================] - 0s 234us/step - loss: 1.1391 - acc: 0.6085 - val_loss: 1.3976 - val_acc: 0.4719\n",
      "Epoch 33/50\n",
      "355/355 [==============================] - 0s 231us/step - loss: 1.1135 - acc: 0.6451 - val_loss: 1.3882 - val_acc: 0.4494\n",
      "Epoch 34/50\n",
      "355/355 [==============================] - 0s 233us/step - loss: 1.0674 - acc: 0.6563 - val_loss: 1.3664 - val_acc: 0.4719\n",
      "Epoch 35/50\n",
      "355/355 [==============================] - 0s 243us/step - loss: 1.0155 - acc: 0.6620 - val_loss: 1.3097 - val_acc: 0.5056\n",
      "Epoch 36/50\n",
      "355/355 [==============================] - 0s 238us/step - loss: 0.9814 - acc: 0.6873 - val_loss: 1.2845 - val_acc: 0.5506\n",
      "Epoch 37/50\n",
      "355/355 [==============================] - 0s 231us/step - loss: 0.9282 - acc: 0.7493 - val_loss: 1.2812 - val_acc: 0.5730\n",
      "Epoch 38/50\n",
      "355/355 [==============================] - 0s 221us/step - loss: 0.8946 - acc: 0.7380 - val_loss: 1.2590 - val_acc: 0.6067\n",
      "Epoch 39/50\n",
      "355/355 [==============================] - 0s 220us/step - loss: 0.8806 - acc: 0.7352 - val_loss: 1.2629 - val_acc: 0.5281\n",
      "Epoch 40/50\n",
      "355/355 [==============================] - 0s 217us/step - loss: 0.8510 - acc: 0.7577 - val_loss: 1.2511 - val_acc: 0.5281\n",
      "Epoch 41/50\n",
      "355/355 [==============================] - 0s 247us/step - loss: 0.8041 - acc: 0.7606 - val_loss: 1.2233 - val_acc: 0.5730\n",
      "Epoch 42/50\n",
      "355/355 [==============================] - 0s 217us/step - loss: 0.7744 - acc: 0.7944 - val_loss: 1.2163 - val_acc: 0.5618\n",
      "Epoch 43/50\n",
      "355/355 [==============================] - 0s 246us/step - loss: 0.7643 - acc: 0.8000 - val_loss: 1.1957 - val_acc: 0.5730\n",
      "Epoch 44/50\n",
      "355/355 [==============================] - 0s 277us/step - loss: 0.7174 - acc: 0.8169 - val_loss: 1.2014 - val_acc: 0.5843\n",
      "Epoch 45/50\n",
      "355/355 [==============================] - 0s 284us/step - loss: 0.6971 - acc: 0.7887 - val_loss: 1.1861 - val_acc: 0.5618\n",
      "Epoch 46/50\n",
      "355/355 [==============================] - 0s 251us/step - loss: 0.7004 - acc: 0.8225 - val_loss: 1.1870 - val_acc: 0.5506\n",
      "Epoch 47/50\n",
      "355/355 [==============================] - 0s 279us/step - loss: 0.6725 - acc: 0.8197 - val_loss: 1.1975 - val_acc: 0.5730\n",
      "Epoch 48/50\n",
      "355/355 [==============================] - 0s 294us/step - loss: 0.6629 - acc: 0.8451 - val_loss: 1.1744 - val_acc: 0.5618\n",
      "Epoch 49/50\n",
      "355/355 [==============================] - 0s 241us/step - loss: 0.6092 - acc: 0.8535 - val_loss: 1.1659 - val_acc: 0.5618\n",
      "Epoch 50/50\n",
      "355/355 [==============================] - 0s 198us/step - loss: 0.6076 - acc: 0.8366 - val_loss: 1.1674 - val_acc: 0.5843\n"
     ]
    }
   ],
   "source": [
    "epochs = 50\n",
    "batch_size = 64\n",
    "\n",
    "history = model.fit(X_train, y_train, epochs=epochs, batch_size=batch_size,validation_split=0.2,callbacks=[EarlyStopping(monitor='val_loss', patience=3, min_delta=0.0001)])"
   ]
  },
  {
   "cell_type": "code",
   "execution_count": 70,
   "metadata": {},
   "outputs": [
    {
     "name": "stdout",
     "output_type": "stream",
     "text": [
      "148/148 [==============================] - 0s 86us/step\n",
      "Test set\n",
      "  Loss: 1.026\n",
      "  Accuracy: 0.601\n"
     ]
    }
   ],
   "source": [
    "accr = model.evaluate(X_test,y_test)\n",
    "print('Test set\\n  Loss: {:0.3f}\\n  Accuracy: {:0.3f}'.format(accr[0],accr[1]))"
   ]
  },
  {
   "cell_type": "code",
   "execution_count": 71,
   "metadata": {},
   "outputs": [],
   "source": [
    "import matplotlib.pyplot as plt"
   ]
  },
  {
   "cell_type": "code",
   "execution_count": 72,
   "metadata": {},
   "outputs": [
    {
     "data": {
      "image/png": "[encoded data removed]",
      "text/plain": [
       "<Figure size 432x288 with 1 Axes>"
      ]
     },
     "metadata": {
      "needs_background": "light"
     },
     "output_type": "display_data"
    }
   ],
   "source": [
    "plt.title('Loss')\n",
    "plt.plot(history.history['loss'], label='train')\n",
    "plt.plot(history.history['val_loss'], label='test')\n",
    "plt.legend()\n",
    "plt.show();"
   ]
  },
  {
   "cell_type": "code",
   "execution_count": 73,
   "metadata": {},
   "outputs": [
    {
     "data": {
      "image/png": "[encoded data removed]",
      "text/plain": [
       "<Figure size 432x288 with 1 Axes>"
      ]
     },
     "metadata": {
      "needs_background": "light"
     },
     "output_type": "display_data"
    }
   ],
   "source": [
    "plt.title('Accuracy')\n",
    "plt.plot(history.history['acc'], label='train')\n",
    "plt.plot(history.history['val_acc'], label='test')\n",
    "plt.legend()\n",
    "plt.show();"
   ]
  },
  {
   "cell_type": "code",
   "execution_count": null,
   "metadata": {},
   "outputs": [],
   "source": []
  }
 ],
 "metadata": {
  "kernelspec": {
   "display_name": "Python 2",
   "language": "python",
   "name": "python2"
  },
  "language_info": {
   "codemirror_mode": {
    "name": "ipython",
    "version": 2
   },
   "file_extension": ".py",
   "mimetype": "text/x-python",
   "name": "python",
   "nbconvert_exporter": "python",
   "pygments_lexer": "ipython2",
   "version": "2.7.15+"
  },
  "toc": {
   "base_numbering": 1,
   "nav_menu": {
    "height": "138px",
    "width": "252px"
   },
   "number_sections": false,
   "sideBar": true,
   "skip_h1_title": false,
   "title_cell": "Table of Contents",
   "title_sidebar": "Contents",
   "toc_cell": false,
   "toc_position": {
    "height": "calc(100% - 180px)",
    "left": "10px",
    "top": "150px",
    "width": "199px"
   },
   "toc_section_display": "block",
   "toc_window_display": true
  }
 },
 "nbformat": 4,
 "nbformat_minor": 1
}
