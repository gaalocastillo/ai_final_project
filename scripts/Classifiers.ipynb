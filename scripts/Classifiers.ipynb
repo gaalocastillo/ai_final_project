{
 "cells": [
  {
   "cell_type": "markdown",
   "metadata": {},
   "source": [
    "### Imports  \n",
    "*All the Python imports go here.*"
   ]
  },
  {
   "cell_type": "code",
   "execution_count": 1,
   "metadata": {},
   "outputs": [
    {
     "name": "stderr",
     "output_type": "stream",
     "text": [
      "[nltk_data] Downloading package wordnet to /home/mdleiton/nltk_data...\n",
      "[nltk_data]   Package wordnet is already up-to-date!\n"
     ]
    },
    {
     "data": {
      "text/plain": [
       "True"
      ]
     },
     "execution_count": 1,
     "metadata": {},
     "output_type": "execute_result"
    }
   ],
   "source": [
    "import os, re, math, time, glob\n",
    "import numpy as np\n",
    "import pandas as pd\n",
    "import pickle\n",
    "from sklearn.feature_extraction.text import TfidfVectorizer\n",
    "\n",
    "from sklearn.svm import SVC\n",
    "from sklearn.metrics import classification_report, confusion_matrix\n",
    "from sklearn import decomposition\n",
    "from TextProcessor import *\n",
    "import gensim\n",
    "from gensim.utils import simple_preprocess\n",
    "from gensim.parsing.preprocessing import STOPWORDS\n",
    "from nltk.stem import WordNetLemmatizer, SnowballStemmer\n",
    "from nltk.stem.porter import *\n",
    "np.random.seed(2019)\n",
    "import nltk\n",
    "nltk.download('wordnet')"
   ]
  },
  {
   "cell_type": "code",
   "execution_count": 2,
   "metadata": {},
   "outputs": [
    {
     "name": "stdout",
     "output_type": "stream",
     "text": [
      "-------------------------\n"
     ]
    }
   ],
   "source": [
    "# Ignoring warnings\n",
    "import warnings\n",
    "warnings.filterwarnings('ignore')\n",
    "print('-'*25)"
   ]
  },
  {
   "cell_type": "markdown",
   "metadata": {},
   "source": [
    "## Read data"
   ]
  },
  {
   "cell_type": "markdown",
   "metadata": {},
   "source": [
    "## Training and Test "
   ]
  },
  {
   "cell_type": "code",
   "execution_count": 3,
   "metadata": {},
   "outputs": [],
   "source": [
    "percent = 0.75\n",
    "\n",
    "df_model_training = pd.read_csv('../data/final_ecuador_data/final_training.csv')\n",
    "df_model_test = pd.read_csv('../data/final_ecuador_data/final_test.csv')"
   ]
  },
  {
   "cell_type": "code",
   "execution_count": 4,
   "metadata": {},
   "outputs": [
    {
     "data": {
      "text/plain": [
       "economi    77\n",
       "polit      77\n",
       "educ       75\n",
       "sport      73\n",
       "health     73\n",
       "crime      69\n",
       "Name: category, dtype: int64"
      ]
     },
     "execution_count": 4,
     "metadata": {},
     "output_type": "execute_result"
    }
   ],
   "source": [
    "df_model_training.category.value_counts(normalize=False)"
   ]
  },
  {
   "cell_type": "code",
   "execution_count": 5,
   "metadata": {},
   "outputs": [
    {
     "data": {
      "text/plain": [
       "educ       29\n",
       "crime      27\n",
       "economi    27\n",
       "polit      25\n",
       "health     24\n",
       "sport      16\n",
       "Name: category, dtype: int64"
      ]
     },
     "execution_count": 5,
     "metadata": {},
     "output_type": "execute_result"
    }
   ],
   "source": [
    "df_model_test.category.value_counts(normalize=False)"
   ]
  },
  {
   "cell_type": "markdown",
   "metadata": {},
   "source": [
    "# Prediction"
   ]
  },
  {
   "cell_type": "markdown",
   "metadata": {},
   "source": [
    "Using the training and test dataset, we will predict the category of news."
   ]
  },
  {
   "cell_type": "markdown",
   "metadata": {},
   "source": [
    "### SVM Classifier"
   ]
  },
  {
   "cell_type": "code",
   "execution_count": 6,
   "metadata": {},
   "outputs": [],
   "source": [
    "frames = [df_model_training, df_model_test]\n",
    "df_model = pd.concat(frames)"
   ]
  },
  {
   "cell_type": "code",
   "execution_count": 7,
   "metadata": {},
   "outputs": [
    {
     "name": "stdout",
     "output_type": "stream",
     "text": [
      "(592, 1430)\n"
     ]
    }
   ],
   "source": [
    "# Create TFIDF matrix.\n",
    "corpus = df_model['tokens-headline-stopwords-stemming']\n",
    "vectorizer = TfidfVectorizer()\n",
    "matrix = vectorizer.fit_transform(corpus)\n",
    "print(matrix.shape)"
   ]
  },
  {
   "cell_type": "code",
   "execution_count": 8,
   "metadata": {},
   "outputs": [],
   "source": [
    "# Split my data on training y test.\n",
    "num_training = len(df_model_training)\n",
    "X_train = matrix[:num_training,:]\n",
    "X_test = matrix[num_training:,:]\n",
    "y_train = df_model[\"category\"].values[:num_training]\n",
    "y_test = df_model['category'].values[num_training:]"
   ]
  },
  {
   "cell_type": "code",
   "execution_count": 9,
   "metadata": {},
   "outputs": [
    {
     "data": {
      "text/plain": [
       "SVC(C=1.0, cache_size=200, class_weight=None, coef0=0.0,\n",
       "    decision_function_shape='ovr', degree=3, gamma='auto_deprecated',\n",
       "    kernel='linear', max_iter=-1, probability=True, random_state=None,\n",
       "    shrinking=True, tol=0.001, verbose=False)"
      ]
     },
     "execution_count": 9,
     "metadata": {},
     "output_type": "execute_result"
    }
   ],
   "source": [
    "# Create the SVM classifier\n",
    "clf = SVC(probability=True, kernel='linear')\n",
    "clf.fit(X_train, y_train)"
   ]
  },
  {
   "cell_type": "code",
   "execution_count": 10,
   "metadata": {},
   "outputs": [
    {
     "name": "stdout",
     "output_type": "stream",
     "text": [
      "              precision    recall  f1-score   support\n",
      "\n",
      "       crime       0.79      0.85      0.82        27\n",
      "     economi       0.78      0.78      0.78        27\n",
      "        educ       0.96      0.76      0.85        29\n",
      "      health       0.94      0.62      0.75        24\n",
      "       polit       0.57      0.84      0.68        25\n",
      "       sport       0.81      0.81      0.81        16\n",
      "\n",
      "    accuracy                           0.78       148\n",
      "   macro avg       0.81      0.78      0.78       148\n",
      "weighted avg       0.81      0.78      0.78       148\n",
      "\n"
     ]
    }
   ],
   "source": [
    "y_pred = clf.predict(X_test)\n",
    "cm = confusion_matrix(y_test,y_pred)\n",
    "print(classification_report(y_test,y_pred))"
   ]
  },
  {
   "cell_type": "code",
   "execution_count": 12,
   "metadata": {},
   "outputs": [],
   "source": [
    "filename = 'svm_model.sav'\n",
    "pickle.dump(clf, open(filename, 'wb'))"
   ]
  },
  {
   "cell_type": "code",
   "execution_count": 13,
   "metadata": {},
   "outputs": [
    {
     "data": {
      "text/plain": [
       "array(['crime', 'economi', 'educ', 'health', 'polit', 'sport'],\n",
       "      dtype=object)"
      ]
     },
     "execution_count": 13,
     "metadata": {},
     "output_type": "execute_result"
    }
   ],
   "source": [
    "clf.classes_"
   ]
  },
  {
   "cell_type": "markdown",
   "metadata": {},
   "source": [
    "### Any Neural Network Classifier"
   ]
  },
  {
   "cell_type": "code",
   "execution_count": 69,
   "metadata": {},
   "outputs": [
    {
     "data": {
      "text/html": [
       "        <script type=\"text/javascript\">\n",
       "        window.PlotlyConfig = {MathJaxConfig: 'local'};\n",
       "        if (window.MathJax) {MathJax.Hub.Config({SVG: {font: \"STIX-Web\"}});}\n",
       "        if (typeof require !== 'undefined') {\n",
       "        require.undef(\"plotly\");\n",
       "        requirejs.config({\n",
       "            paths: {\n",
       "                'plotly': ['https://cdn.plot.ly/plotly-latest.min']\n",
       "            }\n",
       "        });\n",
       "        require(['plotly'], function(Plotly) {\n",
       "            window._Plotly = Plotly;\n",
       "        });\n",
       "        }\n",
       "        </script>\n",
       "        "
      ]
     },
     "metadata": {},
     "output_type": "display_data"
    }
   ],
   "source": [
    "from keras.preprocessing.text import Tokenizer\n",
    "from keras.preprocessing.sequence import pad_sequences\n",
    "from keras.models import Sequential\n",
    "from keras.layers import Dense, Embedding, LSTM, SpatialDropout1D\n",
    "from sklearn.model_selection import train_test_split\n",
    "from keras.utils.np_utils import to_categorical\n",
    "from keras.callbacks import EarlyStopping\n",
    "from keras.layers import Dropout\n",
    "from nltk.corpus import stopwords\n",
    "from nltk import word_tokenize\n",
    "STOPWORDS = set(stopwords.words('spanish'))\n",
    "import plotly.graph_objs as go\n",
    "import plotly.plotly as py\n",
    "import cufflinks\n",
    "from IPython.core.interactiveshell import InteractiveShell\n",
    "import plotly.figure_factory as ff\n",
    "InteractiveShell.ast_node_interactivity = 'all'\n",
    "from plotly.offline import iplot\n",
    "cufflinks.go_offline()\n",
    "cufflinks.set_config_file(world_readable=True, theme='pearl')\n",
    "from keras.utils import plot_model"
   ]
  },
  {
   "cell_type": "code",
   "execution_count": 70,
   "metadata": {},
   "outputs": [
    {
     "name": "stdout",
     "output_type": "stream",
     "text": [
      "Found 1430 unique tokens.\n"
     ]
    }
   ],
   "source": [
    "# The maximum number of words to be used. (most frequent)\n",
    "MAX_NB_WORDS = 350\n",
    "# Max number of words in each complaint.\n",
    "MAX_SEQUENCE_LENGTH = 20\n",
    "# This is fixed.\n",
    "EMBEDDING_DIM = 10\n",
    "\n",
    "tokenizer = Tokenizer(num_words=MAX_NB_WORDS, filters='!\"#$%&()*+,-./:;<=>?@[\\]^_`{|}~', lower=True)\n",
    "tokenizer.fit_on_texts(corpus.values)\n",
    "word_index = tokenizer.word_index\n",
    "print('Found %s unique tokens.' % len(word_index))"
   ]
  },
  {
   "cell_type": "code",
   "execution_count": 71,
   "metadata": {},
   "outputs": [
    {
     "name": "stdout",
     "output_type": "stream",
     "text": [
      "('Shape of data tensor:', (592, 20))\n"
     ]
    }
   ],
   "source": [
    "X = tokenizer.texts_to_sequences(corpus.values)\n",
    "X = pad_sequences(X, maxlen=MAX_SEQUENCE_LENGTH)\n",
    "print('Shape of data tensor:', X.shape)"
   ]
  },
  {
   "cell_type": "code",
   "execution_count": 72,
   "metadata": {},
   "outputs": [
    {
     "name": "stdout",
     "output_type": "stream",
     "text": [
      "('Shape of label tensor:', (592, 6))\n"
     ]
    }
   ],
   "source": [
    "Y = pd.get_dummies(df_model['category'])\n",
    "target_labels = Y.columns\n",
    "target = Y.as_matrix()\n",
    "Y = target.copy()\n",
    "print('Shape of label tensor:', target.shape)"
   ]
  },
  {
   "cell_type": "markdown",
   "metadata": {},
   "source": []
  },
  {
   "cell_type": "code",
   "execution_count": 73,
   "metadata": {},
   "outputs": [
    {
     "name": "stdout",
     "output_type": "stream",
     "text": [
      "((444, 20), (444, 6))\n",
      "((148, 20), (148, 6))\n"
     ]
    }
   ],
   "source": [
    "X_train = X[:num_training,:]\n",
    "X_test = X[num_training:,:]\n",
    "y_train = Y[:num_training]\n",
    "y_test = Y[num_training:]\n",
    "\n",
    "print(X_train.shape,y_train.shape)\n",
    "print(X_test.shape,y_test.shape)"
   ]
  },
  {
   "cell_type": "code",
   "execution_count": 74,
   "metadata": {},
   "outputs": [
    {
     "name": "stdout",
     "output_type": "stream",
     "text": [
      "_________________________________________________________________\n",
      "Layer (type)                 Output Shape              Param #   \n",
      "=================================================================\n",
      "Embedding (Embedding)        (None, 20, 10)            3500      \n",
      "_________________________________________________________________\n",
      "SpatialDropout1D (SpatialDro (None, 20, 10)            0         \n",
      "_________________________________________________________________\n",
      "LSTM (LSTM)                  (None, 16)                1728      \n",
      "_________________________________________________________________\n",
      "Dense_softmax (Dense)        (None, 6)                 102       \n",
      "=================================================================\n",
      "Total params: 5,330\n",
      "Trainable params: 5,330\n",
      "Non-trainable params: 0\n",
      "_________________________________________________________________\n",
      "None\n"
     ]
    }
   ],
   "source": [
    "model = Sequential(name='ALG_1')\n",
    "model.add(Embedding(MAX_NB_WORDS, EMBEDDING_DIM, input_length=X.shape[1], name='Embedding'))\n",
    "model.add(SpatialDropout1D(0.2, name='SpatialDropout1D'))\n",
    "model.add(LSTM(16, dropout=0.2, recurrent_dropout=0.2, name='LSTM'))\n",
    "model.add(Dense(6, activation='softmax', name='Dense_softmax'))\n",
    "model.compile(loss='categorical_crossentropy', optimizer='adam', metrics=['accuracy'])\n",
    "#plot_model(model, to_file='LSTM.png',show_shapes=True, show_layer_names=True)\n",
    "print(model.summary())"
   ]
  },
  {
   "cell_type": "code",
   "execution_count": 75,
   "metadata": {},
   "outputs": [
    {
     "name": "stdout",
     "output_type": "stream",
     "text": [
      "Train on 355 samples, validate on 89 samples\n",
      "Epoch 1/50\n",
      "355/355 [==============================] - 1s 4ms/step - loss: 1.7910 - acc: 0.1944 - val_loss: 1.7890 - val_acc: 0.2360\n",
      "Epoch 2/50\n",
      "355/355 [==============================] - 0s 475us/step - loss: 1.7871 - acc: 0.2873 - val_loss: 1.7885 - val_acc: 0.3034\n",
      "Epoch 3/50\n",
      "355/355 [==============================] - 0s 483us/step - loss: 1.7839 - acc: 0.3549 - val_loss: 1.7878 - val_acc: 0.2697\n",
      "Epoch 4/50\n",
      "355/355 [==============================] - 0s 422us/step - loss: 1.7792 - acc: 0.3437 - val_loss: 1.7870 - val_acc: 0.2247\n",
      "Epoch 5/50\n",
      "355/355 [==============================] - 0s 422us/step - loss: 1.7724 - acc: 0.3577 - val_loss: 1.7839 - val_acc: 0.2022\n",
      "Epoch 6/50\n",
      "355/355 [==============================] - 0s 418us/step - loss: 1.7646 - acc: 0.3577 - val_loss: 1.7790 - val_acc: 0.2135\n",
      "Epoch 7/50\n",
      "355/355 [==============================] - 0s 411us/step - loss: 1.7555 - acc: 0.4169 - val_loss: 1.7721 - val_acc: 0.3371\n",
      "Epoch 8/50\n",
      "355/355 [==============================] - 0s 419us/step - loss: 1.7434 - acc: 0.4732 - val_loss: 1.7638 - val_acc: 0.4045\n",
      "Epoch 9/50\n",
      "355/355 [==============================] - 0s 416us/step - loss: 1.7273 - acc: 0.4930 - val_loss: 1.7546 - val_acc: 0.3258\n",
      "Epoch 10/50\n",
      "355/355 [==============================] - 0s 419us/step - loss: 1.7026 - acc: 0.4648 - val_loss: 1.7435 - val_acc: 0.2809\n",
      "Epoch 11/50\n",
      "355/355 [==============================] - 0s 417us/step - loss: 1.6711 - acc: 0.4563 - val_loss: 1.7244 - val_acc: 0.3034\n",
      "Epoch 12/50\n",
      "355/355 [==============================] - 0s 422us/step - loss: 1.6335 - acc: 0.4507 - val_loss: 1.7031 - val_acc: 0.2921\n",
      "Epoch 13/50\n",
      "355/355 [==============================] - 0s 517us/step - loss: 1.6025 - acc: 0.4535 - val_loss: 1.6685 - val_acc: 0.3708\n",
      "Epoch 14/50\n",
      "355/355 [==============================] - 0s 483us/step - loss: 1.5387 - acc: 0.5183 - val_loss: 1.6315 - val_acc: 0.4719\n",
      "Epoch 15/50\n",
      "355/355 [==============================] - 0s 445us/step - loss: 1.4915 - acc: 0.5268 - val_loss: 1.6025 - val_acc: 0.4045\n",
      "Epoch 16/50\n",
      "355/355 [==============================] - 0s 545us/step - loss: 1.4118 - acc: 0.5380 - val_loss: 1.5483 - val_acc: 0.4719\n",
      "Epoch 17/50\n",
      "355/355 [==============================] - 0s 447us/step - loss: 1.3791 - acc: 0.5268 - val_loss: 1.5095 - val_acc: 0.4944\n",
      "Epoch 18/50\n",
      "355/355 [==============================] - 0s 424us/step - loss: 1.2928 - acc: 0.6056 - val_loss: 1.4620 - val_acc: 0.5056\n",
      "Epoch 19/50\n",
      "355/355 [==============================] - 0s 517us/step - loss: 1.2418 - acc: 0.5944 - val_loss: 1.4131 - val_acc: 0.5169\n",
      "Epoch 20/50\n",
      "355/355 [==============================] - 0s 499us/step - loss: 1.1526 - acc: 0.6394 - val_loss: 1.3572 - val_acc: 0.5393\n",
      "Epoch 21/50\n",
      "355/355 [==============================] - 0s 419us/step - loss: 1.0819 - acc: 0.6845 - val_loss: 1.3325 - val_acc: 0.5618\n",
      "Epoch 22/50\n",
      "355/355 [==============================] - 0s 415us/step - loss: 1.0224 - acc: 0.6873 - val_loss: 1.2746 - val_acc: 0.5730\n",
      "Epoch 23/50\n",
      "355/355 [==============================] - 0s 428us/step - loss: 1.0021 - acc: 0.7070 - val_loss: 1.2641 - val_acc: 0.5843\n",
      "Epoch 24/50\n",
      "355/355 [==============================] - 0s 418us/step - loss: 0.9511 - acc: 0.7296 - val_loss: 1.2393 - val_acc: 0.5730\n",
      "Epoch 25/50\n",
      "355/355 [==============================] - 0s 428us/step - loss: 0.8678 - acc: 0.7690 - val_loss: 1.1945 - val_acc: 0.5955\n",
      "Epoch 26/50\n",
      "355/355 [==============================] - 0s 514us/step - loss: 0.8365 - acc: 0.7775 - val_loss: 1.1730 - val_acc: 0.5730\n",
      "Epoch 27/50\n",
      "355/355 [==============================] - 0s 501us/step - loss: 0.8114 - acc: 0.7746 - val_loss: 1.1592 - val_acc: 0.5843\n",
      "Epoch 28/50\n",
      "355/355 [==============================] - 0s 412us/step - loss: 0.7735 - acc: 0.7944 - val_loss: 1.1474 - val_acc: 0.6067\n",
      "Epoch 29/50\n",
      "355/355 [==============================] - 0s 422us/step - loss: 0.6910 - acc: 0.8423 - val_loss: 1.1236 - val_acc: 0.5955\n",
      "Epoch 30/50\n",
      "355/355 [==============================] - 0s 470us/step - loss: 0.7205 - acc: 0.8479 - val_loss: 1.1363 - val_acc: 0.6292\n",
      "Epoch 31/50\n",
      "355/355 [==============================] - 0s 537us/step - loss: 0.6625 - acc: 0.8366 - val_loss: 1.1099 - val_acc: 0.6517\n",
      "Epoch 32/50\n",
      "355/355 [==============================] - 0s 417us/step - loss: 0.6294 - acc: 0.8394 - val_loss: 1.1043 - val_acc: 0.5843\n",
      "Epoch 33/50\n",
      "355/355 [==============================] - 0s 419us/step - loss: 0.6206 - acc: 0.8535 - val_loss: 1.1021 - val_acc: 0.6292\n",
      "Epoch 34/50\n",
      "355/355 [==============================] - 0s 464us/step - loss: 0.6041 - acc: 0.8563 - val_loss: 1.1253 - val_acc: 0.6180\n",
      "Epoch 35/50\n",
      "355/355 [==============================] - 0s 509us/step - loss: 0.5965 - acc: 0.8648 - val_loss: 1.1200 - val_acc: 0.5955\n",
      "Epoch 36/50\n",
      "355/355 [==============================] - 0s 425us/step - loss: 0.5477 - acc: 0.8592 - val_loss: 1.1056 - val_acc: 0.6067\n"
     ]
    }
   ],
   "source": [
    "epochs = 50\n",
    "batch_size = 32\n",
    "\n",
    "history = model.fit(X_train, y_train, epochs=epochs, batch_size=batch_size,validation_split=0.20,callbacks=[EarlyStopping(monitor='val_loss', patience=3, min_delta=0.0001)])"
   ]
  },
  {
   "cell_type": "code",
   "execution_count": 76,
   "metadata": {},
   "outputs": [
    {
     "name": "stdout",
     "output_type": "stream",
     "text": [
      "148/148 [==============================] - 0s 75us/step\n",
      "Test set\n",
      "  Loss: 1.036\n",
      "  Accuracy: 0.689\n"
     ]
    }
   ],
   "source": [
    "accr = model.evaluate(X_test,y_test)\n",
    "print('Test set\\n  Loss: {:0.3f}\\n  Accuracy: {:0.3f}'.format(accr[0],accr[1]))"
   ]
  },
  {
   "cell_type": "code",
   "execution_count": 77,
   "metadata": {},
   "outputs": [],
   "source": [
    "import matplotlib.pyplot as plt"
   ]
  },
  {
   "cell_type": "code",
   "execution_count": 78,
   "metadata": {},
   "outputs": [
    {
     "data": {
      "image/png": "[encoded data removed]",
      "text/plain": [
       "<Figure size 432x288 with 1 Axes>"
      ]
     },
     "metadata": {
      "needs_background": "light"
     },
     "output_type": "display_data"
    }
   ],
   "source": [
    "plt.title('Loss')\n",
    "plt.plot(history.history['loss'], label='train')\n",
    "plt.plot(history.history['val_loss'], label='test')\n",
    "plt.legend()\n",
    "plt.show();"
   ]
  },
  {
   "cell_type": "code",
   "execution_count": 79,
   "metadata": {},
   "outputs": [
    {
     "data": {
      "image/png": "[encoded data removed]",
      "text/plain": [
       "<Figure size 432x288 with 1 Axes>"
      ]
     },
     "metadata": {
      "needs_background": "light"
     },
     "output_type": "display_data"
    }
   ],
   "source": [
    "plt.title('Accuracy')\n",
    "plt.plot(history.history['acc'], label='train')\n",
    "plt.plot(history.history['val_acc'], label='test')\n",
    "plt.legend()\n",
    "plt.show();"
   ]
  },
  {
   "cell_type": "code",
   "execution_count": null,
   "metadata": {},
   "outputs": [],
   "source": []
  },
  {
   "cell_type": "code",
   "execution_count": null,
   "metadata": {},
   "outputs": [],
   "source": []
  },
  {
   "cell_type": "code",
   "execution_count": null,
   "metadata": {},
   "outputs": [],
   "source": []
  },
  {
   "cell_type": "code",
   "execution_count": null,
   "metadata": {},
   "outputs": [],
   "source": []
  }
 ],
 "metadata": {
  "kernelspec": {
   "display_name": "Python 3",
   "language": "python",
   "name": "python3"
  },
  "language_info": {
   "codemirror_mode": {
    "name": "ipython",
    "version": 3
   },
   "file_extension": ".py",
   "mimetype": "text/x-python",
   "name": "python",
   "nbconvert_exporter": "python",
   "pygments_lexer": "ipython3",
   "version": "3.5.2"
  },
  "toc": {
   "base_numbering": 1,
   "nav_menu": {
    "height": "138px",
    "width": "252px"
   },
   "number_sections": false,
   "sideBar": true,
   "skip_h1_title": false,
   "title_cell": "Table of Contents",
   "title_sidebar": "Contents",
   "toc_cell": false,
   "toc_position": {
    "height": "calc(100% - 180px)",
    "left": "10px",
    "top": "150px",
    "width": "199px"
   },
   "toc_section_display": "block",
   "toc_window_display": true
  }
 },
 "nbformat": 4,
 "nbformat_minor": 1
}
