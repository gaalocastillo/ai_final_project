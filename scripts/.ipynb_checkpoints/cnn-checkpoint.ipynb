{
 "cells": [
  {
   "cell_type": "markdown",
   "metadata": {},
   "source": [
    "### Imports  \n",
    "*All the Python imports go here.*"
   ]
  },
  {
   "cell_type": "code",
   "execution_count": 1,
   "metadata": {},
   "outputs": [
    {
     "name": "stderr",
     "output_type": "stream",
     "text": [
      "[nltk_data] Downloading package wordnet to /home/mdleiton/nltk_data...\n",
      "[nltk_data]   Package wordnet is already up-to-date!\n"
     ]
    },
    {
     "data": {
      "text/plain": [
       "True"
      ]
     },
     "execution_count": 1,
     "metadata": {},
     "output_type": "execute_result"
    }
   ],
   "source": [
    "import os, re, math, time, glob\n",
    "import numpy as np\n",
    "import pandas as pd\n",
    "\n",
    "from sklearn.feature_extraction.text import TfidfVectorizer\n",
    "\n",
    "from sklearn.svm import SVC\n",
    "from sklearn.metrics import classification_report, confusion_matrix\n",
    "from sklearn import decomposition\n",
    "from TextProcessor import *\n",
    "import gensim\n",
    "from gensim.utils import simple_preprocess\n",
    "from gensim.parsing.preprocessing import STOPWORDS\n",
    "from nltk.stem import WordNetLemmatizer, SnowballStemmer\n",
    "from nltk.stem.porter import *\n",
    "np.random.seed(2019)\n",
    "import nltk\n",
    "nltk.download('wordnet')"
   ]
  },
  {
   "cell_type": "code",
   "execution_count": 2,
   "metadata": {},
   "outputs": [
    {
     "name": "stdout",
     "output_type": "stream",
     "text": [
      "-------------------------\n"
     ]
    }
   ],
   "source": [
    "# Ignoring warnings\n",
    "import warnings\n",
    "warnings.filterwarnings('ignore')\n",
    "print('-'*25)"
   ]
  },
  {
   "cell_type": "markdown",
   "metadata": {},
   "source": [
    "## Read data"
   ]
  },
  {
   "cell_type": "markdown",
   "metadata": {},
   "source": [
    "## Training and Test "
   ]
  },
  {
   "cell_type": "code",
   "execution_count": 3,
   "metadata": {},
   "outputs": [],
   "source": [
    "df_model_training = pd.read_csv('../data/training.csv')\n",
    "df_model_test = pd.read_csv('../data/test.csv')"
   ]
  },
  {
   "cell_type": "code",
   "execution_count": 4,
   "metadata": {},
   "outputs": [
    {
     "data": {
      "text/plain": [
       "polit       0.203806\n",
       "health      0.185390\n",
       "crime       0.170657\n",
       "economi     0.169429\n",
       "educ        0.132597\n",
       "unemploy    0.082873\n",
       "corrupt     0.055249\n",
       "Name: category, dtype: float64"
      ]
     },
     "execution_count": 4,
     "metadata": {},
     "output_type": "execute_result"
    }
   ],
   "source": [
    "df_model_training.category.value_counts(normalize=True)"
   ]
  },
  {
   "cell_type": "code",
   "execution_count": 5,
   "metadata": {},
   "outputs": [
    {
     "data": {
      "text/plain": [
       "polit       0.217454\n",
       "health      0.187411\n",
       "economi     0.161660\n",
       "crime       0.153076\n",
       "educ        0.138770\n",
       "unemploy    0.084406\n",
       "corrupt     0.057225\n",
       "Name: category, dtype: float64"
      ]
     },
     "execution_count": 5,
     "metadata": {},
     "output_type": "execute_result"
    }
   ],
   "source": [
    "df_model_test.category.value_counts(normalize=True)"
   ]
  },
  {
   "cell_type": "markdown",
   "metadata": {},
   "source": [
    "# Prediction"
   ]
  },
  {
   "cell_type": "markdown",
   "metadata": {},
   "source": [
    "Using the training and test dataset, we will predict the category of news."
   ]
  },
  {
   "cell_type": "markdown",
   "metadata": {},
   "source": [
    "### SVM Classifier"
   ]
  },
  {
   "cell_type": "code",
   "execution_count": 6,
   "metadata": {},
   "outputs": [],
   "source": [
    "frames = [df_model_training, df_model_test]\n",
    "df_model = pd.concat(frames)"
   ]
  },
  {
   "cell_type": "code",
   "execution_count": 7,
   "metadata": {},
   "outputs": [
    {
     "name": "stdout",
     "output_type": "stream",
     "text": [
      "(2328, 4166)\n"
     ]
    }
   ],
   "source": [
    "# Create TFIDF matrix.\n",
    "corpus = df_model['tokens-headline-stopwords-stemming']\n",
    "vectorizer = TfidfVectorizer()\n",
    "matrix = vectorizer.fit_transform(corpus)\n",
    "print(matrix.shape)"
   ]
  },
  {
   "cell_type": "code",
   "execution_count": 8,
   "metadata": {},
   "outputs": [],
   "source": [
    "# Split my data on training y test.\n",
    "num_training = len(df_model_training)\n",
    "X_train = matrix[:num_training,:]\n",
    "X_test = matrix[num_training:,:]\n",
    "y_train = df_model[\"category\"].values[:num_training]\n",
    "y_test = df_model['category'].values[num_training:]"
   ]
  },
  {
   "cell_type": "markdown",
   "metadata": {},
   "source": [
    "### Any Neural Network Classifier"
   ]
  },
  {
   "cell_type": "code",
   "execution_count": 9,
   "metadata": {},
   "outputs": [
    {
     "name": "stderr",
     "output_type": "stream",
     "text": [
      "Using TensorFlow backend.\n"
     ]
    },
    {
     "data": {
      "text/html": [
       "        <script type=\"text/javascript\">\n",
       "        window.PlotlyConfig = {MathJaxConfig: 'local'};\n",
       "        if (window.MathJax) {MathJax.Hub.Config({SVG: {font: \"STIX-Web\"}});}\n",
       "        if (typeof require !== 'undefined') {\n",
       "        require.undef(\"plotly\");\n",
       "        requirejs.config({\n",
       "            paths: {\n",
       "                'plotly': ['https://cdn.plot.ly/plotly-latest.min']\n",
       "            }\n",
       "        });\n",
       "        require(['plotly'], function(Plotly) {\n",
       "            window._Plotly = Plotly;\n",
       "        });\n",
       "        }\n",
       "        </script>\n",
       "        "
      ]
     },
     "metadata": {},
     "output_type": "display_data"
    }
   ],
   "source": [
    "from keras.preprocessing.text import Tokenizer\n",
    "from keras.preprocessing.sequence import pad_sequences\n",
    "from keras.models import Sequential\n",
    "from keras.layers import Dense, Embedding, LSTM, SpatialDropout1D\n",
    "from keras.utils.np_utils import to_categorical\n",
    "from keras.callbacks import EarlyStopping\n",
    "from keras.layers import Dropout\n",
    "from nltk.corpus import stopwords\n",
    "from nltk import word_tokenize\n",
    "import os, re, math, time, glob\n",
    "import numpy as np\n",
    "import pandas as pd\n",
    "STOPWORDS = set(stopwords.words('english'))\n",
    "import cufflinks\n",
    "from IPython.core.interactiveshell import InteractiveShell\n",
    "import plotly.figure_factory as ff\n",
    "InteractiveShell.ast_node_interactivity = 'all'\n",
    "from plotly.offline import iplot\n",
    "cufflinks.go_offline()\n",
    "cufflinks.set_config_file(world_readable=True, theme='pearl')"
   ]
  },
  {
   "cell_type": "code",
   "execution_count": 51,
   "metadata": {},
   "outputs": [
    {
     "name": "stdout",
     "output_type": "stream",
     "text": [
      "Found 4165 unique tokens.\n"
     ]
    }
   ],
   "source": [
    "# The maximum number of words to be used. (most frequent)\n",
    "MAX_NB_WORDS = 650\n",
    "# Max number of words in each complaint.\n",
    "MAX_SEQUENCE_LENGTH = 15\n",
    "# This is fixed.\n",
    "EMBEDDING_DIM = 16\n",
    "tokenizer = Tokenizer(num_words=MAX_NB_WORDS, filters='!\"#$%&()*+,-./:;<=>?@[\\]^_`{|}~', lower=True)\n",
    "tokenizer.fit_on_texts(corpus.values)\n",
    "word_index = tokenizer.word_index\n",
    "print('Found %s unique tokens.' % len(word_index))"
   ]
  },
  {
   "cell_type": "code",
   "execution_count": 52,
   "metadata": {},
   "outputs": [
    {
     "name": "stdout",
     "output_type": "stream",
     "text": [
      "Shape of data tensor: (2328, 15)\n"
     ]
    }
   ],
   "source": [
    "X = tokenizer.texts_to_sequences(corpus.values)\n",
    "X = pad_sequences(X, maxlen=MAX_SEQUENCE_LENGTH)\n",
    "print('Shape of data tensor:', X.shape)"
   ]
  },
  {
   "cell_type": "code",
   "execution_count": 53,
   "metadata": {},
   "outputs": [
    {
     "name": "stdout",
     "output_type": "stream",
     "text": [
      "Shape of label tensor: (2328, 7)\n"
     ]
    }
   ],
   "source": [
    "Y = pd.get_dummies(df_model['category'])\n",
    "target_labels = Y.columns\n",
    "target = Y.as_matrix()\n",
    "Y = target.copy()\n",
    "print('Shape of label tensor:', target.shape)"
   ]
  },
  {
   "cell_type": "markdown",
   "metadata": {},
   "source": []
  },
  {
   "cell_type": "code",
   "execution_count": 54,
   "metadata": {},
   "outputs": [
    {
     "name": "stdout",
     "output_type": "stream",
     "text": [
      "(1629, 15) (1629, 7)\n",
      "(699, 15) (699, 7)\n"
     ]
    }
   ],
   "source": [
    "X_train = X[:num_training,:]\n",
    "X_test = X[num_training:,:]\n",
    "y_train = Y[:num_training]\n",
    "y_test = Y[num_training:]\n",
    "\n",
    "print(X_train.shape,y_train.shape)\n",
    "print(X_test.shape,y_test.shape)"
   ]
  },
  {
   "cell_type": "code",
   "execution_count": 65,
   "metadata": {},
   "outputs": [
    {
     "name": "stdout",
     "output_type": "stream",
     "text": [
      "Train on 1303 samples, validate on 326 samples\n",
      "Epoch 1/10\n",
      "1303/1303 [==============================] - 1s 560us/step - loss: 1.9123 - acc: 0.1842 - val_loss: 1.8843 - val_acc: 0.2393\n",
      "Epoch 2/10\n",
      "1303/1303 [==============================] - 0s 76us/step - loss: 1.8590 - acc: 0.2118 - val_loss: 1.8756 - val_acc: 0.2147\n",
      "Epoch 3/10\n",
      "1303/1303 [==============================] - 0s 87us/step - loss: 1.8296 - acc: 0.3254 - val_loss: 1.8380 - val_acc: 0.2791\n",
      "Epoch 4/10\n",
      "1303/1303 [==============================] - 0s 78us/step - loss: 1.7594 - acc: 0.3914 - val_loss: 1.7399 - val_acc: 0.5460\n",
      "Epoch 5/10\n",
      "1303/1303 [==============================] - 0s 87us/step - loss: 1.5967 - acc: 0.6815 - val_loss: 1.5500 - val_acc: 0.6411\n",
      "Epoch 6/10\n",
      "1303/1303 [==============================] - 0s 77us/step - loss: 1.3166 - acc: 0.7805 - val_loss: 1.2588 - val_acc: 0.7178\n",
      "Epoch 7/10\n",
      "1303/1303 [==============================] - 0s 67us/step - loss: 0.9870 - acc: 0.8089 - val_loss: 0.9862 - val_acc: 0.7699\n",
      "Epoch 8/10\n",
      "1303/1303 [==============================] - 0s 66us/step - loss: 0.7287 - acc: 0.8273 - val_loss: 0.8504 - val_acc: 0.7791\n",
      "Epoch 9/10\n",
      "1303/1303 [==============================] - 0s 69us/step - loss: 0.5668 - acc: 0.8542 - val_loss: 0.7561 - val_acc: 0.7975\n",
      "Epoch 10/10\n",
      "1303/1303 [==============================] - 0s 60us/step - loss: 0.4596 - acc: 0.8772 - val_loss: 0.7302 - val_acc: 0.7883\n"
     ]
    }
   ],
   "source": [
    "from keras import layers\n",
    "from keras.utils import plot_model\n",
    "model = Sequential()\n",
    "model.add(Embedding(input_dim=MAX_NB_WORDS,output_dim=32,input_length=X.shape[1], trainable=True))\n",
    "model.add(layers.Conv1D(32, 16, activation='relu', padding='same'))\n",
    "model.add(layers.MaxPooling1D(8, padding='same'))\n",
    "model.add(layers.Flatten())\n",
    "model.add(layers.Dense(7, activation ='softmax'))\n",
    "plot_model(model, to_file='CNN.png',show_shapes=True, show_layer_names=True)\n",
    "model.compile(optimizer='adam', loss = 'categorical_crossentropy', metrics=['acc'])\n",
    "history = model.fit(X_train, y_train, epochs=10, batch_size=64,validation_split=0.2,callbacks=[EarlyStopping(monitor='val_loss', patience=3, min_delta=0.0001)])"
   ]
  },
  {
   "cell_type": "code",
   "execution_count": 66,
   "metadata": {},
   "outputs": [
    {
     "name": "stdout",
     "output_type": "stream",
     "text": [
      "699/699 [==============================] - 0s 42us/step\n",
      "Test set\n",
      "  Loss: 0.731\n",
      "  Accuracy: 0.751\n"
     ]
    }
   ],
   "source": [
    "accr = model.evaluate(X_test, y_test)\n",
    "print('Test set\\n  Loss: {:0.3f}\\n  Accuracy: {:0.3f}'.format(accr[0],accr[1]))"
   ]
  },
  {
   "cell_type": "code",
   "execution_count": 61,
   "metadata": {},
   "outputs": [],
   "source": [
    "import matplotlib.pyplot as plt"
   ]
  },
  {
   "cell_type": "code",
   "execution_count": 62,
   "metadata": {},
   "outputs": [
    {
     "data": {
      "image/png": "[encoded data removed]",
      "text/plain": [
       "<Figure size 432x288 with 1 Axes>"
      ]
     },
     "metadata": {
      "needs_background": "light"
     },
     "output_type": "display_data"
    }
   ],
   "source": [
    "plt.title('Loss')\n",
    "plt.plot(history.history['loss'], label='train')\n",
    "plt.plot(history.history['val_loss'], label='test')\n",
    "plt.legend()\n",
    "plt.show();"
   ]
  },
  {
   "cell_type": "code",
   "execution_count": 63,
   "metadata": {},
   "outputs": [
    {
     "data": {
      "text/plain": [
       "Text(0.5, 1.0, 'Accuracy')"
      ]
     },
     "execution_count": 63,
     "metadata": {},
     "output_type": "execute_result"
    },
    {
     "data": {
      "text/plain": [
       "[<matplotlib.lines.Line2D at 0x7f20adda4470>]"
      ]
     },
     "execution_count": 63,
     "metadata": {},
     "output_type": "execute_result"
    },
    {
     "data": {
      "text/plain": [
       "[<matplotlib.lines.Line2D at 0x7f20addafcc0>]"
      ]
     },
     "execution_count": 63,
     "metadata": {},
     "output_type": "execute_result"
    },
    {
     "data": {
      "text/plain": [
       "<matplotlib.legend.Legend at 0x7f20addafcf8>"
      ]
     },
     "execution_count": 63,
     "metadata": {},
     "output_type": "execute_result"
    },
    {
     "data": {
      "image/png": "[encoded data removed]",
      "text/plain": [
       "<Figure size 432x288 with 1 Axes>"
      ]
     },
     "metadata": {
      "needs_background": "light"
     },
     "output_type": "display_data"
    },
    {
     "data": {
      "text/plain": [
       "{'acc': [0.18188795091116877,\n",
       "  0.24942440527590623,\n",
       "  0.2617037604839548,\n",
       "  0.4343821953464634,\n",
       "  0.5978511126793447,\n",
       "  0.7229470447769369,\n",
       "  0.8104374520795123,\n",
       "  0.8288564845313499,\n",
       "  0.8541826549074052,\n",
       "  0.8733691479824912],\n",
       " 'loss': [1.9029651030337729,\n",
       "  1.8589977927145735,\n",
       "  1.8158180666079635,\n",
       "  1.7402897073229002,\n",
       "  1.58582735198878,\n",
       "  1.3267352498684677,\n",
       "  1.016385101759699,\n",
       "  0.7576484563985606,\n",
       "  0.5789254300885263,\n",
       "  0.47825145337184577],\n",
       " 'val_acc': [0.20858895723805107,\n",
       "  0.21472392656320444,\n",
       "  0.3435582823914253,\n",
       "  0.5214723930037095,\n",
       "  0.5858895705521472,\n",
       "  0.7055214727583107,\n",
       "  0.7361963186527323,\n",
       "  0.7730061353349978,\n",
       "  0.7576687120221144,\n",
       "  0.7822085893227279],\n",
       " 'val_loss': [1.8835356447594298,\n",
       "  1.8602445732596462,\n",
       "  1.815843174793969,\n",
       "  1.7258506910932576,\n",
       "  1.5403685013940729,\n",
       "  1.2838070721714043,\n",
       "  1.0304907955274991,\n",
       "  0.8648711614813541,\n",
       "  0.7977422687904966,\n",
       "  0.7501139933346239]}"
      ]
     },
     "execution_count": 63,
     "metadata": {},
     "output_type": "execute_result"
    }
   ],
   "source": [
    "plt.title('Accuracy')\n",
    "plt.plot(history.history['acc'], label='train')\n",
    "plt.plot(history.history['val_acc'], label='test')\n",
    "plt.legend()\n",
    "plt.show();\n",
    "history.history"
   ]
  },
  {
   "cell_type": "code",
   "execution_count": null,
   "metadata": {},
   "outputs": [],
   "source": []
  }
 ],
 "metadata": {
  "kernelspec": {
   "display_name": "Python 2",
   "language": "python",
   "name": "python2"
  },
  "language_info": {
   "codemirror_mode": {
    "name": "ipython",
    "version": 2
   },
   "file_extension": ".py",
   "mimetype": "text/x-python",
   "name": "python",
   "nbconvert_exporter": "python",
   "pygments_lexer": "ipython2",
   "version": "2.7.15+"
  },
  "toc": {
   "base_numbering": 1,
   "nav_menu": {
    "height": "138px",
    "width": "252px"
   },
   "number_sections": false,
   "sideBar": true,
   "skip_h1_title": false,
   "title_cell": "Table of Contents",
   "title_sidebar": "Contents",
   "toc_cell": false,
   "toc_position": {
    "height": "calc(100% - 180px)",
    "left": "10px",
    "top": "150px",
    "width": "199px"
   },
   "toc_section_display": "block",
   "toc_window_display": true
  }
 },
 "nbformat": 4,
 "nbformat_minor": 1
}
